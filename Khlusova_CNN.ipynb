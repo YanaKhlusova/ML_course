{
  "nbformat": 4,
  "nbformat_minor": 0,
  "metadata": {
    "colab": {
      "provenance": [],
      "authorship_tag": "ABX9TyNffrEoGCiPNglDEQpPHBu2",
      "include_colab_link": true
    },
    "kernelspec": {
      "name": "python3",
      "display_name": "Python 3"
    },
    "language_info": {
      "name": "python"
    }
  },
  "cells": [
    {
      "cell_type": "markdown",
      "metadata": {
        "id": "view-in-github",
        "colab_type": "text"
      },
      "source": [
        "<a href=\"https://colab.research.google.com/github/YanaKhlusova/ML_course/blob/main/Khlusova_CNN.ipynb\" target=\"_parent\"><img src=\"https://colab.research.google.com/assets/colab-badge.svg\" alt=\"Open In Colab\"/></a>"
      ]
    },
    {
      "cell_type": "code",
      "source": [
        "import re\n",
        "import pandas as pd\n",
        "import numpy as np\n",
        "import nltk\n",
        "import matplotlib.pyplot as plt\n",
        "import seaborn as sns\n",
        "import tensorflow as tf\n",
        "import kagglehub\n",
        "\n",
        "from nltk import word_tokenize, pos_tag\n",
        "from nltk.stem import WordNetLemmatizer\n",
        "from nltk.corpus import wordnet, stopwords\n",
        "from sklearn.preprocessing import LabelEncoder\n",
        "from sklearn.model_selection import train_test_split\n",
        "from sklearn.metrics import confusion_matrix, classification_report\n",
        "from tensorflow.keras.models import Sequential\n",
        "from tensorflow.keras.layers import Embedding, Conv1D, GlobalMaxPooling1D, Dense, Dropout, BatchNormalization\n",
        "from tensorflow.keras.regularizers import l2\n",
        "from tensorflow.keras.callbacks import EarlyStopping, ReduceLROnPlateau\n",
        "from tensorflow.keras.preprocessing.text import Tokenizer\n",
        "from tensorflow.keras.preprocessing.sequence import pad_sequences\n",
        "\n",
        "# данные nltk для токенизации, лемматизации, удаления стоп-слов\n",
        "# лемматизация в nltk базируется на POS-теггиинге и WordNet, поэтому данные для них тоже понадобятся\n",
        "nltk.download('punkt_tab')\n",
        "nltk.download('averaged_perceptron_tagger_eng')\n",
        "nltk.download('wordnet')\n",
        "nltk.download('omw-1.4')\n",
        "nltk.download('stopwords')\n",
        "\n",
        "# инициализация лемматайзера\n",
        "lemmatizer = WordNetLemmatizer()"
      ],
      "metadata": {
        "id": "5C4HGexrEeNi",
        "colab": {
          "base_uri": "https://localhost:8080/"
        },
        "outputId": "9bec3c2b-70d1-461b-a7e0-4619ef914d8f"
      },
      "execution_count": 10,
      "outputs": [
        {
          "output_type": "stream",
          "name": "stderr",
          "text": [
            "[nltk_data] Downloading package punkt_tab to /root/nltk_data...\n",
            "[nltk_data]   Package punkt_tab is already up-to-date!\n",
            "[nltk_data] Downloading package averaged_perceptron_tagger_eng to\n",
            "[nltk_data]     /root/nltk_data...\n",
            "[nltk_data]   Package averaged_perceptron_tagger_eng is already up-to-\n",
            "[nltk_data]       date!\n",
            "[nltk_data] Downloading package wordnet to /root/nltk_data...\n",
            "[nltk_data]   Package wordnet is already up-to-date!\n",
            "[nltk_data] Downloading package omw-1.4 to /root/nltk_data...\n",
            "[nltk_data]   Package omw-1.4 is already up-to-date!\n",
            "[nltk_data] Downloading package stopwords to /root/nltk_data...\n",
            "[nltk_data]   Package stopwords is already up-to-date!\n"
          ]
        }
      ]
    },
    {
      "cell_type": "code",
      "source": [
        "# скачаем датасет с твитами о запуске Chat GPT с kaggle\n",
        "path = kagglehub.dataset_download(\"ryosyo0/chatgpt-tweets-sentiment-analysis-clean-data\")\n",
        "\n",
        "df = pd.read_csv(path + '/chatgpt_sentiment.csv')\n",
        "\n",
        "# сколько всего строк в датасете?\n",
        "df"
      ],
      "metadata": {
        "colab": {
          "base_uri": "https://localhost:8080/",
          "height": 649
        },
        "id": "OfpWoOu5BdzA",
        "outputId": "37ebfe70-39e6-4b34-9f04-30e5272de64f"
      },
      "execution_count": 2,
      "outputs": [
        {
          "output_type": "stream",
          "name": "stdout",
          "text": [
            "Downloading from https://www.kaggle.com/api/v1/datasets/download/ryosyo0/chatgpt-tweets-sentiment-analysis-clean-data?dataset_version_number=6...\n"
          ]
        },
        {
          "output_type": "stream",
          "name": "stderr",
          "text": [
            "100%|██████████| 160M/160M [00:02<00:00, 56.7MB/s]"
          ]
        },
        {
          "output_type": "stream",
          "name": "stdout",
          "text": [
            "Extracting files...\n"
          ]
        },
        {
          "output_type": "stream",
          "name": "stderr",
          "text": [
            "\n"
          ]
        },
        {
          "output_type": "execute_result",
          "data": {
            "text/plain": [
              "                                                     Text  negative   neutral  \\\n",
              "0       If I were a journalist or reporter writing cli...  0.947877  0.040978   \n",
              "1       Imagine if the mid season twist was that theyr...  0.031874  0.156266   \n",
              "2       I see the difference between leader and employ...  0.158342  0.312784   \n",
              "3       Which means your job is at risk Bill Gates say...  0.023860  0.931395   \n",
              "4                   What have you been using Chatgpt for?  0.005627  0.968457   \n",
              "...                                                   ...       ...       ...   \n",
              "975445  Just launched ChatGPT, our new AI system which...  0.004002  0.014325   \n",
              "975446  THRILLED to share that ChatGPT, our new model ...  0.005804  0.015195   \n",
              "975447  ChatGPT: Optimizing Language Models for Dialog...  0.003652  0.901520   \n",
              "975448  Try talking with ChatGPT, our new AI system wh...  0.003811  0.017800   \n",
              "975449   ChatGPT: Optimizing Language Models for Dialogue  0.005496  0.034091   \n",
              "\n",
              "        positive predicted_label                       date  likes  \\\n",
              "0       0.011144        negative  2023-02-10 23:59:49+00:00      1   \n",
              "1       0.811859        positive  2023-02-10 23:59:35+00:00      8   \n",
              "2       0.528873        positive  2023-02-10 23:59:18+00:00      4   \n",
              "3       0.044745         neutral  2023-02-10 23:59:16+00:00      0   \n",
              "4       0.025916         neutral  2023-02-10 23:59:16+00:00      1   \n",
              "...          ...             ...                        ...    ...   \n",
              "975445  0.981673        positive  2022-11-30 18:06:29+00:00   2370   \n",
              "975446  0.979001        positive  2022-11-30 18:05:58+00:00    559   \n",
              "975447  0.094828         neutral  2022-11-30 18:02:58+00:00      2   \n",
              "975448  0.978389        positive  2022-11-30 18:02:06+00:00  13597   \n",
              "975449  0.960413        positive  2022-11-30 18:00:15+00:00      2   \n",
              "\n",
              "                       location  followers  following  retweets  replies  \n",
              "0        Fukuoka 福岡  | Japan 日本       2012        388         0        0  \n",
              "1                 Manhattan, NY      19855       5722         1        2  \n",
              "2                           NaN         23        577         0        1  \n",
              "3                           NaN        108        224         0        0  \n",
              "4                   Chicago, IL      11155        478         0        1  \n",
              "...                         ...        ...        ...       ...      ...  \n",
              "975445                      NaN     203790         66       371       84  \n",
              "975446  neighborhoodsf.com (sf)       1572        604        67       26  \n",
              "975447             The Internet        475         13         1        0  \n",
              "975448                      NaN    1492374          0      3504     1313  \n",
              "975449            Cleveland, OH      10496       9515         0        0  \n",
              "\n",
              "[975450 rows x 12 columns]"
            ],
            "text/html": [
              "\n",
              "  <div id=\"df-2182b8ba-79ab-44d5-9965-40c18beaef87\" class=\"colab-df-container\">\n",
              "    <div>\n",
              "<style scoped>\n",
              "    .dataframe tbody tr th:only-of-type {\n",
              "        vertical-align: middle;\n",
              "    }\n",
              "\n",
              "    .dataframe tbody tr th {\n",
              "        vertical-align: top;\n",
              "    }\n",
              "\n",
              "    .dataframe thead th {\n",
              "        text-align: right;\n",
              "    }\n",
              "</style>\n",
              "<table border=\"1\" class=\"dataframe\">\n",
              "  <thead>\n",
              "    <tr style=\"text-align: right;\">\n",
              "      <th></th>\n",
              "      <th>Text</th>\n",
              "      <th>negative</th>\n",
              "      <th>neutral</th>\n",
              "      <th>positive</th>\n",
              "      <th>predicted_label</th>\n",
              "      <th>date</th>\n",
              "      <th>likes</th>\n",
              "      <th>location</th>\n",
              "      <th>followers</th>\n",
              "      <th>following</th>\n",
              "      <th>retweets</th>\n",
              "      <th>replies</th>\n",
              "    </tr>\n",
              "  </thead>\n",
              "  <tbody>\n",
              "    <tr>\n",
              "      <th>0</th>\n",
              "      <td>If I were a journalist or reporter writing cli...</td>\n",
              "      <td>0.947877</td>\n",
              "      <td>0.040978</td>\n",
              "      <td>0.011144</td>\n",
              "      <td>negative</td>\n",
              "      <td>2023-02-10 23:59:49+00:00</td>\n",
              "      <td>1</td>\n",
              "      <td>Fukuoka 福岡  | Japan 日本</td>\n",
              "      <td>2012</td>\n",
              "      <td>388</td>\n",
              "      <td>0</td>\n",
              "      <td>0</td>\n",
              "    </tr>\n",
              "    <tr>\n",
              "      <th>1</th>\n",
              "      <td>Imagine if the mid season twist was that theyr...</td>\n",
              "      <td>0.031874</td>\n",
              "      <td>0.156266</td>\n",
              "      <td>0.811859</td>\n",
              "      <td>positive</td>\n",
              "      <td>2023-02-10 23:59:35+00:00</td>\n",
              "      <td>8</td>\n",
              "      <td>Manhattan, NY</td>\n",
              "      <td>19855</td>\n",
              "      <td>5722</td>\n",
              "      <td>1</td>\n",
              "      <td>2</td>\n",
              "    </tr>\n",
              "    <tr>\n",
              "      <th>2</th>\n",
              "      <td>I see the difference between leader and employ...</td>\n",
              "      <td>0.158342</td>\n",
              "      <td>0.312784</td>\n",
              "      <td>0.528873</td>\n",
              "      <td>positive</td>\n",
              "      <td>2023-02-10 23:59:18+00:00</td>\n",
              "      <td>4</td>\n",
              "      <td>NaN</td>\n",
              "      <td>23</td>\n",
              "      <td>577</td>\n",
              "      <td>0</td>\n",
              "      <td>1</td>\n",
              "    </tr>\n",
              "    <tr>\n",
              "      <th>3</th>\n",
              "      <td>Which means your job is at risk Bill Gates say...</td>\n",
              "      <td>0.023860</td>\n",
              "      <td>0.931395</td>\n",
              "      <td>0.044745</td>\n",
              "      <td>neutral</td>\n",
              "      <td>2023-02-10 23:59:16+00:00</td>\n",
              "      <td>0</td>\n",
              "      <td>NaN</td>\n",
              "      <td>108</td>\n",
              "      <td>224</td>\n",
              "      <td>0</td>\n",
              "      <td>0</td>\n",
              "    </tr>\n",
              "    <tr>\n",
              "      <th>4</th>\n",
              "      <td>What have you been using Chatgpt for?</td>\n",
              "      <td>0.005627</td>\n",
              "      <td>0.968457</td>\n",
              "      <td>0.025916</td>\n",
              "      <td>neutral</td>\n",
              "      <td>2023-02-10 23:59:16+00:00</td>\n",
              "      <td>1</td>\n",
              "      <td>Chicago, IL</td>\n",
              "      <td>11155</td>\n",
              "      <td>478</td>\n",
              "      <td>0</td>\n",
              "      <td>1</td>\n",
              "    </tr>\n",
              "    <tr>\n",
              "      <th>...</th>\n",
              "      <td>...</td>\n",
              "      <td>...</td>\n",
              "      <td>...</td>\n",
              "      <td>...</td>\n",
              "      <td>...</td>\n",
              "      <td>...</td>\n",
              "      <td>...</td>\n",
              "      <td>...</td>\n",
              "      <td>...</td>\n",
              "      <td>...</td>\n",
              "      <td>...</td>\n",
              "      <td>...</td>\n",
              "    </tr>\n",
              "    <tr>\n",
              "      <th>975445</th>\n",
              "      <td>Just launched ChatGPT, our new AI system which...</td>\n",
              "      <td>0.004002</td>\n",
              "      <td>0.014325</td>\n",
              "      <td>0.981673</td>\n",
              "      <td>positive</td>\n",
              "      <td>2022-11-30 18:06:29+00:00</td>\n",
              "      <td>2370</td>\n",
              "      <td>NaN</td>\n",
              "      <td>203790</td>\n",
              "      <td>66</td>\n",
              "      <td>371</td>\n",
              "      <td>84</td>\n",
              "    </tr>\n",
              "    <tr>\n",
              "      <th>975446</th>\n",
              "      <td>THRILLED to share that ChatGPT, our new model ...</td>\n",
              "      <td>0.005804</td>\n",
              "      <td>0.015195</td>\n",
              "      <td>0.979001</td>\n",
              "      <td>positive</td>\n",
              "      <td>2022-11-30 18:05:58+00:00</td>\n",
              "      <td>559</td>\n",
              "      <td>neighborhoodsf.com (sf)</td>\n",
              "      <td>1572</td>\n",
              "      <td>604</td>\n",
              "      <td>67</td>\n",
              "      <td>26</td>\n",
              "    </tr>\n",
              "    <tr>\n",
              "      <th>975447</th>\n",
              "      <td>ChatGPT: Optimizing Language Models for Dialog...</td>\n",
              "      <td>0.003652</td>\n",
              "      <td>0.901520</td>\n",
              "      <td>0.094828</td>\n",
              "      <td>neutral</td>\n",
              "      <td>2022-11-30 18:02:58+00:00</td>\n",
              "      <td>2</td>\n",
              "      <td>The Internet</td>\n",
              "      <td>475</td>\n",
              "      <td>13</td>\n",
              "      <td>1</td>\n",
              "      <td>0</td>\n",
              "    </tr>\n",
              "    <tr>\n",
              "      <th>975448</th>\n",
              "      <td>Try talking with ChatGPT, our new AI system wh...</td>\n",
              "      <td>0.003811</td>\n",
              "      <td>0.017800</td>\n",
              "      <td>0.978389</td>\n",
              "      <td>positive</td>\n",
              "      <td>2022-11-30 18:02:06+00:00</td>\n",
              "      <td>13597</td>\n",
              "      <td>NaN</td>\n",
              "      <td>1492374</td>\n",
              "      <td>0</td>\n",
              "      <td>3504</td>\n",
              "      <td>1313</td>\n",
              "    </tr>\n",
              "    <tr>\n",
              "      <th>975449</th>\n",
              "      <td>ChatGPT: Optimizing Language Models for Dialogue</td>\n",
              "      <td>0.005496</td>\n",
              "      <td>0.034091</td>\n",
              "      <td>0.960413</td>\n",
              "      <td>positive</td>\n",
              "      <td>2022-11-30 18:00:15+00:00</td>\n",
              "      <td>2</td>\n",
              "      <td>Cleveland, OH</td>\n",
              "      <td>10496</td>\n",
              "      <td>9515</td>\n",
              "      <td>0</td>\n",
              "      <td>0</td>\n",
              "    </tr>\n",
              "  </tbody>\n",
              "</table>\n",
              "<p>975450 rows × 12 columns</p>\n",
              "</div>\n",
              "    <div class=\"colab-df-buttons\">\n",
              "\n",
              "  <div class=\"colab-df-container\">\n",
              "    <button class=\"colab-df-convert\" onclick=\"convertToInteractive('df-2182b8ba-79ab-44d5-9965-40c18beaef87')\"\n",
              "            title=\"Convert this dataframe to an interactive table.\"\n",
              "            style=\"display:none;\">\n",
              "\n",
              "  <svg xmlns=\"http://www.w3.org/2000/svg\" height=\"24px\" viewBox=\"0 -960 960 960\">\n",
              "    <path d=\"M120-120v-720h720v720H120Zm60-500h600v-160H180v160Zm220 220h160v-160H400v160Zm0 220h160v-160H400v160ZM180-400h160v-160H180v160Zm440 0h160v-160H620v160ZM180-180h160v-160H180v160Zm440 0h160v-160H620v160Z\"/>\n",
              "  </svg>\n",
              "    </button>\n",
              "\n",
              "  <style>\n",
              "    .colab-df-container {\n",
              "      display:flex;\n",
              "      gap: 12px;\n",
              "    }\n",
              "\n",
              "    .colab-df-convert {\n",
              "      background-color: #E8F0FE;\n",
              "      border: none;\n",
              "      border-radius: 50%;\n",
              "      cursor: pointer;\n",
              "      display: none;\n",
              "      fill: #1967D2;\n",
              "      height: 32px;\n",
              "      padding: 0 0 0 0;\n",
              "      width: 32px;\n",
              "    }\n",
              "\n",
              "    .colab-df-convert:hover {\n",
              "      background-color: #E2EBFA;\n",
              "      box-shadow: 0px 1px 2px rgba(60, 64, 67, 0.3), 0px 1px 3px 1px rgba(60, 64, 67, 0.15);\n",
              "      fill: #174EA6;\n",
              "    }\n",
              "\n",
              "    .colab-df-buttons div {\n",
              "      margin-bottom: 4px;\n",
              "    }\n",
              "\n",
              "    [theme=dark] .colab-df-convert {\n",
              "      background-color: #3B4455;\n",
              "      fill: #D2E3FC;\n",
              "    }\n",
              "\n",
              "    [theme=dark] .colab-df-convert:hover {\n",
              "      background-color: #434B5C;\n",
              "      box-shadow: 0px 1px 3px 1px rgba(0, 0, 0, 0.15);\n",
              "      filter: drop-shadow(0px 1px 2px rgba(0, 0, 0, 0.3));\n",
              "      fill: #FFFFFF;\n",
              "    }\n",
              "  </style>\n",
              "\n",
              "    <script>\n",
              "      const buttonEl =\n",
              "        document.querySelector('#df-2182b8ba-79ab-44d5-9965-40c18beaef87 button.colab-df-convert');\n",
              "      buttonEl.style.display =\n",
              "        google.colab.kernel.accessAllowed ? 'block' : 'none';\n",
              "\n",
              "      async function convertToInteractive(key) {\n",
              "        const element = document.querySelector('#df-2182b8ba-79ab-44d5-9965-40c18beaef87');\n",
              "        const dataTable =\n",
              "          await google.colab.kernel.invokeFunction('convertToInteractive',\n",
              "                                                    [key], {});\n",
              "        if (!dataTable) return;\n",
              "\n",
              "        const docLinkHtml = 'Like what you see? Visit the ' +\n",
              "          '<a target=\"_blank\" href=https://colab.research.google.com/notebooks/data_table.ipynb>data table notebook</a>'\n",
              "          + ' to learn more about interactive tables.';\n",
              "        element.innerHTML = '';\n",
              "        dataTable['output_type'] = 'display_data';\n",
              "        await google.colab.output.renderOutput(dataTable, element);\n",
              "        const docLink = document.createElement('div');\n",
              "        docLink.innerHTML = docLinkHtml;\n",
              "        element.appendChild(docLink);\n",
              "      }\n",
              "    </script>\n",
              "  </div>\n",
              "\n",
              "\n",
              "    <div id=\"df-f9fb170b-4235-495f-983c-b13e9231341e\">\n",
              "      <button class=\"colab-df-quickchart\" onclick=\"quickchart('df-f9fb170b-4235-495f-983c-b13e9231341e')\"\n",
              "                title=\"Suggest charts\"\n",
              "                style=\"display:none;\">\n",
              "\n",
              "<svg xmlns=\"http://www.w3.org/2000/svg\" height=\"24px\"viewBox=\"0 0 24 24\"\n",
              "     width=\"24px\">\n",
              "    <g>\n",
              "        <path d=\"M19 3H5c-1.1 0-2 .9-2 2v14c0 1.1.9 2 2 2h14c1.1 0 2-.9 2-2V5c0-1.1-.9-2-2-2zM9 17H7v-7h2v7zm4 0h-2V7h2v10zm4 0h-2v-4h2v4z\"/>\n",
              "    </g>\n",
              "</svg>\n",
              "      </button>\n",
              "\n",
              "<style>\n",
              "  .colab-df-quickchart {\n",
              "      --bg-color: #E8F0FE;\n",
              "      --fill-color: #1967D2;\n",
              "      --hover-bg-color: #E2EBFA;\n",
              "      --hover-fill-color: #174EA6;\n",
              "      --disabled-fill-color: #AAA;\n",
              "      --disabled-bg-color: #DDD;\n",
              "  }\n",
              "\n",
              "  [theme=dark] .colab-df-quickchart {\n",
              "      --bg-color: #3B4455;\n",
              "      --fill-color: #D2E3FC;\n",
              "      --hover-bg-color: #434B5C;\n",
              "      --hover-fill-color: #FFFFFF;\n",
              "      --disabled-bg-color: #3B4455;\n",
              "      --disabled-fill-color: #666;\n",
              "  }\n",
              "\n",
              "  .colab-df-quickchart {\n",
              "    background-color: var(--bg-color);\n",
              "    border: none;\n",
              "    border-radius: 50%;\n",
              "    cursor: pointer;\n",
              "    display: none;\n",
              "    fill: var(--fill-color);\n",
              "    height: 32px;\n",
              "    padding: 0;\n",
              "    width: 32px;\n",
              "  }\n",
              "\n",
              "  .colab-df-quickchart:hover {\n",
              "    background-color: var(--hover-bg-color);\n",
              "    box-shadow: 0 1px 2px rgba(60, 64, 67, 0.3), 0 1px 3px 1px rgba(60, 64, 67, 0.15);\n",
              "    fill: var(--button-hover-fill-color);\n",
              "  }\n",
              "\n",
              "  .colab-df-quickchart-complete:disabled,\n",
              "  .colab-df-quickchart-complete:disabled:hover {\n",
              "    background-color: var(--disabled-bg-color);\n",
              "    fill: var(--disabled-fill-color);\n",
              "    box-shadow: none;\n",
              "  }\n",
              "\n",
              "  .colab-df-spinner {\n",
              "    border: 2px solid var(--fill-color);\n",
              "    border-color: transparent;\n",
              "    border-bottom-color: var(--fill-color);\n",
              "    animation:\n",
              "      spin 1s steps(1) infinite;\n",
              "  }\n",
              "\n",
              "  @keyframes spin {\n",
              "    0% {\n",
              "      border-color: transparent;\n",
              "      border-bottom-color: var(--fill-color);\n",
              "      border-left-color: var(--fill-color);\n",
              "    }\n",
              "    20% {\n",
              "      border-color: transparent;\n",
              "      border-left-color: var(--fill-color);\n",
              "      border-top-color: var(--fill-color);\n",
              "    }\n",
              "    30% {\n",
              "      border-color: transparent;\n",
              "      border-left-color: var(--fill-color);\n",
              "      border-top-color: var(--fill-color);\n",
              "      border-right-color: var(--fill-color);\n",
              "    }\n",
              "    40% {\n",
              "      border-color: transparent;\n",
              "      border-right-color: var(--fill-color);\n",
              "      border-top-color: var(--fill-color);\n",
              "    }\n",
              "    60% {\n",
              "      border-color: transparent;\n",
              "      border-right-color: var(--fill-color);\n",
              "    }\n",
              "    80% {\n",
              "      border-color: transparent;\n",
              "      border-right-color: var(--fill-color);\n",
              "      border-bottom-color: var(--fill-color);\n",
              "    }\n",
              "    90% {\n",
              "      border-color: transparent;\n",
              "      border-bottom-color: var(--fill-color);\n",
              "    }\n",
              "  }\n",
              "</style>\n",
              "\n",
              "      <script>\n",
              "        async function quickchart(key) {\n",
              "          const quickchartButtonEl =\n",
              "            document.querySelector('#' + key + ' button');\n",
              "          quickchartButtonEl.disabled = true;  // To prevent multiple clicks.\n",
              "          quickchartButtonEl.classList.add('colab-df-spinner');\n",
              "          try {\n",
              "            const charts = await google.colab.kernel.invokeFunction(\n",
              "                'suggestCharts', [key], {});\n",
              "          } catch (error) {\n",
              "            console.error('Error during call to suggestCharts:', error);\n",
              "          }\n",
              "          quickchartButtonEl.classList.remove('colab-df-spinner');\n",
              "          quickchartButtonEl.classList.add('colab-df-quickchart-complete');\n",
              "        }\n",
              "        (() => {\n",
              "          let quickchartButtonEl =\n",
              "            document.querySelector('#df-f9fb170b-4235-495f-983c-b13e9231341e button');\n",
              "          quickchartButtonEl.style.display =\n",
              "            google.colab.kernel.accessAllowed ? 'block' : 'none';\n",
              "        })();\n",
              "      </script>\n",
              "    </div>\n",
              "    </div>\n",
              "  </div>\n"
            ],
            "application/vnd.google.colaboratory.intrinsic+json": {
              "type": "dataframe",
              "variable_name": "df"
            }
          },
          "metadata": {},
          "execution_count": 2
        }
      ]
    },
    {
      "cell_type": "code",
      "source": [
        "# сразу дропаем те ряды, где пропущены тексты твитов\n",
        "df = df.dropna(subset=['Text']).reset_index(drop=True)"
      ],
      "metadata": {
        "id": "PWaYjUggzJAP"
      },
      "execution_count": 3,
      "outputs": []
    },
    {
      "cell_type": "code",
      "source": [
        "# смотрим на распределение меток\n",
        "df['predicted_label'].value_counts()"
      ],
      "metadata": {
        "colab": {
          "base_uri": "https://localhost:8080/",
          "height": 209
        },
        "id": "8huKTIQHxJyt",
        "outputId": "abcbed5e-f000-419c-c435-436802f24cfb"
      },
      "execution_count": 56,
      "outputs": [
        {
          "output_type": "execute_result",
          "data": {
            "text/plain": [
              "predicted_label\n",
              "neutral     442168\n",
              "positive    323976\n",
              "negative    208883\n",
              "Name: count, dtype: int64"
            ],
            "text/html": [
              "<div>\n",
              "<style scoped>\n",
              "    .dataframe tbody tr th:only-of-type {\n",
              "        vertical-align: middle;\n",
              "    }\n",
              "\n",
              "    .dataframe tbody tr th {\n",
              "        vertical-align: top;\n",
              "    }\n",
              "\n",
              "    .dataframe thead th {\n",
              "        text-align: right;\n",
              "    }\n",
              "</style>\n",
              "<table border=\"1\" class=\"dataframe\">\n",
              "  <thead>\n",
              "    <tr style=\"text-align: right;\">\n",
              "      <th></th>\n",
              "      <th>count</th>\n",
              "    </tr>\n",
              "    <tr>\n",
              "      <th>predicted_label</th>\n",
              "      <th></th>\n",
              "    </tr>\n",
              "  </thead>\n",
              "  <tbody>\n",
              "    <tr>\n",
              "      <th>neutral</th>\n",
              "      <td>442168</td>\n",
              "    </tr>\n",
              "    <tr>\n",
              "      <th>positive</th>\n",
              "      <td>323976</td>\n",
              "    </tr>\n",
              "    <tr>\n",
              "      <th>negative</th>\n",
              "      <td>208883</td>\n",
              "    </tr>\n",
              "  </tbody>\n",
              "</table>\n",
              "</div><br><label><b>dtype:</b> int64</label>"
            ]
          },
          "metadata": {},
          "execution_count": 56
        }
      ]
    },
    {
      "cell_type": "code",
      "source": [
        "# очень много строк, поэтому сэмплируем\n",
        "# возьму примерно 30к строк, сэмплирование произведу так, чтобы сохранить распределение классов\n",
        "df = df.groupby('predicted_label', group_keys=False).apply(\n",
        "    lambda x: x.sample(frac=0.031, random_state=42)\n",
        ").reset_index(drop=True)"
      ],
      "metadata": {
        "colab": {
          "base_uri": "https://localhost:8080/"
        },
        "id": "0aVKlfwjulcG",
        "outputId": "4548d7cd-8bc7-49f7-d7b3-e9ff96afb638"
      },
      "execution_count": 4,
      "outputs": [
        {
          "output_type": "stream",
          "name": "stderr",
          "text": [
            "/tmp/ipython-input-4-3163971335.py:3: DeprecationWarning: DataFrameGroupBy.apply operated on the grouping columns. This behavior is deprecated, and in a future version of pandas the grouping columns will be excluded from the operation. Either pass `include_groups=False` to exclude the groupings or explicitly select the grouping columns after groupby to silence this warning.\n",
            "  df = df.groupby('predicted_label', group_keys=False).apply(\n"
          ]
        }
      ]
    },
    {
      "cell_type": "code",
      "source": [
        "df"
      ],
      "metadata": {
        "colab": {
          "base_uri": "https://localhost:8080/",
          "height": 597
        },
        "id": "OqriZavfvp8P",
        "outputId": "3619f5a2-4b4f-4a82-f138-e11a23e3f321"
      },
      "execution_count": 58,
      "outputs": [
        {
          "output_type": "execute_result",
          "data": {
            "text/plain": [
              "                                                    Text  negative   neutral  \\\n",
              "0      ChatGPT is excellent. It exceeded all expectat...  0.483196  0.279364   \n",
              "1      I tried it, also tried to make ChatGPT explain...  0.729446  0.245938   \n",
              "2       ChatGPT PRO is announced at the same people c...  0.967241  0.021922   \n",
              "3      ChatGPT, created by San Francisco company Open...  0.980588  0.012243   \n",
              "4      ChatGPT is predicting an untimely death for Jo...  0.911307  0.077578   \n",
              "...                                                  ...       ...       ...   \n",
              "30220  Fascinating. Like, at a loss for words over ho...  0.007902  0.009056   \n",
              "30221  Trained on a massive dataset, its knowledge is...  0.031307  0.258329   \n",
              "30222  I guess this makes sense and why ChatGPT is ar...  0.013337  0.090579   \n",
              "30223  Generative AI has undeniably positive disrupti...  0.010832  0.037274   \n",
              "30224  Wow, tried ChatGPT and it's amazing! Most of m...  0.005120  0.009607   \n",
              "\n",
              "       positive predicted_label                       date  likes  \\\n",
              "0      0.237440        negative  2022-12-22 18:14:07+00:00      0   \n",
              "1      0.024616        negative  2023-02-02 09:44:40+00:00      0   \n",
              "2      0.010837        negative  2023-02-03 00:09:33+00:00      3   \n",
              "3      0.007169        negative  2023-02-07 00:48:40+00:00      1   \n",
              "4      0.011116        negative  2023-02-06 23:29:46+00:00      3   \n",
              "...         ...             ...                        ...    ...   \n",
              "30220  0.983041        positive  2023-01-16 00:16:37+00:00      0   \n",
              "30221  0.710364        positive  2023-01-29 01:38:54+00:00      0   \n",
              "30222  0.896084        positive  2023-02-04 04:49:36+00:00     20   \n",
              "30223  0.951893        positive  2022-12-29 04:47:16+00:00      4   \n",
              "30224  0.985273        positive  2023-01-28 12:16:22+00:00      2   \n",
              "\n",
              "                  location  followers  following  retweets  replies  \n",
              "0          Icaraí, Niterói         98       1073         0        0  \n",
              "1      Cochabamba, Bolivia        441        555         0        0  \n",
              "2              Atlanta, GA        563        219         0        0  \n",
              "3              Philippines      15470         65         1        0  \n",
              "4         Toronto, Ontario       3432        814         0        2  \n",
              "...                    ...        ...        ...       ...      ...  \n",
              "30220      Minting Now 👉👉👉       5567       3930         0        0  \n",
              "30221           Dallas, TX       1018        321         0        1  \n",
              "30222                  NaN      73008       1013         3        1  \n",
              "30223     New Delhi, India       1328       2161         0        0  \n",
              "30224              Trebnje        301        386         0        0  \n",
              "\n",
              "[30225 rows x 12 columns]"
            ],
            "text/html": [
              "\n",
              "  <div id=\"df-101c00c0-69fa-47f0-b9f5-608b0d55d76b\" class=\"colab-df-container\">\n",
              "    <div>\n",
              "<style scoped>\n",
              "    .dataframe tbody tr th:only-of-type {\n",
              "        vertical-align: middle;\n",
              "    }\n",
              "\n",
              "    .dataframe tbody tr th {\n",
              "        vertical-align: top;\n",
              "    }\n",
              "\n",
              "    .dataframe thead th {\n",
              "        text-align: right;\n",
              "    }\n",
              "</style>\n",
              "<table border=\"1\" class=\"dataframe\">\n",
              "  <thead>\n",
              "    <tr style=\"text-align: right;\">\n",
              "      <th></th>\n",
              "      <th>Text</th>\n",
              "      <th>negative</th>\n",
              "      <th>neutral</th>\n",
              "      <th>positive</th>\n",
              "      <th>predicted_label</th>\n",
              "      <th>date</th>\n",
              "      <th>likes</th>\n",
              "      <th>location</th>\n",
              "      <th>followers</th>\n",
              "      <th>following</th>\n",
              "      <th>retweets</th>\n",
              "      <th>replies</th>\n",
              "    </tr>\n",
              "  </thead>\n",
              "  <tbody>\n",
              "    <tr>\n",
              "      <th>0</th>\n",
              "      <td>ChatGPT is excellent. It exceeded all expectat...</td>\n",
              "      <td>0.483196</td>\n",
              "      <td>0.279364</td>\n",
              "      <td>0.237440</td>\n",
              "      <td>negative</td>\n",
              "      <td>2022-12-22 18:14:07+00:00</td>\n",
              "      <td>0</td>\n",
              "      <td>Icaraí, Niterói</td>\n",
              "      <td>98</td>\n",
              "      <td>1073</td>\n",
              "      <td>0</td>\n",
              "      <td>0</td>\n",
              "    </tr>\n",
              "    <tr>\n",
              "      <th>1</th>\n",
              "      <td>I tried it, also tried to make ChatGPT explain...</td>\n",
              "      <td>0.729446</td>\n",
              "      <td>0.245938</td>\n",
              "      <td>0.024616</td>\n",
              "      <td>negative</td>\n",
              "      <td>2023-02-02 09:44:40+00:00</td>\n",
              "      <td>0</td>\n",
              "      <td>Cochabamba, Bolivia</td>\n",
              "      <td>441</td>\n",
              "      <td>555</td>\n",
              "      <td>0</td>\n",
              "      <td>0</td>\n",
              "    </tr>\n",
              "    <tr>\n",
              "      <th>2</th>\n",
              "      <td>ChatGPT PRO is announced at the same people c...</td>\n",
              "      <td>0.967241</td>\n",
              "      <td>0.021922</td>\n",
              "      <td>0.010837</td>\n",
              "      <td>negative</td>\n",
              "      <td>2023-02-03 00:09:33+00:00</td>\n",
              "      <td>3</td>\n",
              "      <td>Atlanta, GA</td>\n",
              "      <td>563</td>\n",
              "      <td>219</td>\n",
              "      <td>0</td>\n",
              "      <td>0</td>\n",
              "    </tr>\n",
              "    <tr>\n",
              "      <th>3</th>\n",
              "      <td>ChatGPT, created by San Francisco company Open...</td>\n",
              "      <td>0.980588</td>\n",
              "      <td>0.012243</td>\n",
              "      <td>0.007169</td>\n",
              "      <td>negative</td>\n",
              "      <td>2023-02-07 00:48:40+00:00</td>\n",
              "      <td>1</td>\n",
              "      <td>Philippines</td>\n",
              "      <td>15470</td>\n",
              "      <td>65</td>\n",
              "      <td>1</td>\n",
              "      <td>0</td>\n",
              "    </tr>\n",
              "    <tr>\n",
              "      <th>4</th>\n",
              "      <td>ChatGPT is predicting an untimely death for Jo...</td>\n",
              "      <td>0.911307</td>\n",
              "      <td>0.077578</td>\n",
              "      <td>0.011116</td>\n",
              "      <td>negative</td>\n",
              "      <td>2023-02-06 23:29:46+00:00</td>\n",
              "      <td>3</td>\n",
              "      <td>Toronto, Ontario</td>\n",
              "      <td>3432</td>\n",
              "      <td>814</td>\n",
              "      <td>0</td>\n",
              "      <td>2</td>\n",
              "    </tr>\n",
              "    <tr>\n",
              "      <th>...</th>\n",
              "      <td>...</td>\n",
              "      <td>...</td>\n",
              "      <td>...</td>\n",
              "      <td>...</td>\n",
              "      <td>...</td>\n",
              "      <td>...</td>\n",
              "      <td>...</td>\n",
              "      <td>...</td>\n",
              "      <td>...</td>\n",
              "      <td>...</td>\n",
              "      <td>...</td>\n",
              "      <td>...</td>\n",
              "    </tr>\n",
              "    <tr>\n",
              "      <th>30220</th>\n",
              "      <td>Fascinating. Like, at a loss for words over ho...</td>\n",
              "      <td>0.007902</td>\n",
              "      <td>0.009056</td>\n",
              "      <td>0.983041</td>\n",
              "      <td>positive</td>\n",
              "      <td>2023-01-16 00:16:37+00:00</td>\n",
              "      <td>0</td>\n",
              "      <td>Minting Now 👉👉👉</td>\n",
              "      <td>5567</td>\n",
              "      <td>3930</td>\n",
              "      <td>0</td>\n",
              "      <td>0</td>\n",
              "    </tr>\n",
              "    <tr>\n",
              "      <th>30221</th>\n",
              "      <td>Trained on a massive dataset, its knowledge is...</td>\n",
              "      <td>0.031307</td>\n",
              "      <td>0.258329</td>\n",
              "      <td>0.710364</td>\n",
              "      <td>positive</td>\n",
              "      <td>2023-01-29 01:38:54+00:00</td>\n",
              "      <td>0</td>\n",
              "      <td>Dallas, TX</td>\n",
              "      <td>1018</td>\n",
              "      <td>321</td>\n",
              "      <td>0</td>\n",
              "      <td>1</td>\n",
              "    </tr>\n",
              "    <tr>\n",
              "      <th>30222</th>\n",
              "      <td>I guess this makes sense and why ChatGPT is ar...</td>\n",
              "      <td>0.013337</td>\n",
              "      <td>0.090579</td>\n",
              "      <td>0.896084</td>\n",
              "      <td>positive</td>\n",
              "      <td>2023-02-04 04:49:36+00:00</td>\n",
              "      <td>20</td>\n",
              "      <td>NaN</td>\n",
              "      <td>73008</td>\n",
              "      <td>1013</td>\n",
              "      <td>3</td>\n",
              "      <td>1</td>\n",
              "    </tr>\n",
              "    <tr>\n",
              "      <th>30223</th>\n",
              "      <td>Generative AI has undeniably positive disrupti...</td>\n",
              "      <td>0.010832</td>\n",
              "      <td>0.037274</td>\n",
              "      <td>0.951893</td>\n",
              "      <td>positive</td>\n",
              "      <td>2022-12-29 04:47:16+00:00</td>\n",
              "      <td>4</td>\n",
              "      <td>New Delhi, India</td>\n",
              "      <td>1328</td>\n",
              "      <td>2161</td>\n",
              "      <td>0</td>\n",
              "      <td>0</td>\n",
              "    </tr>\n",
              "    <tr>\n",
              "      <th>30224</th>\n",
              "      <td>Wow, tried ChatGPT and it's amazing! Most of m...</td>\n",
              "      <td>0.005120</td>\n",
              "      <td>0.009607</td>\n",
              "      <td>0.985273</td>\n",
              "      <td>positive</td>\n",
              "      <td>2023-01-28 12:16:22+00:00</td>\n",
              "      <td>2</td>\n",
              "      <td>Trebnje</td>\n",
              "      <td>301</td>\n",
              "      <td>386</td>\n",
              "      <td>0</td>\n",
              "      <td>0</td>\n",
              "    </tr>\n",
              "  </tbody>\n",
              "</table>\n",
              "<p>30225 rows × 12 columns</p>\n",
              "</div>\n",
              "    <div class=\"colab-df-buttons\">\n",
              "\n",
              "  <div class=\"colab-df-container\">\n",
              "    <button class=\"colab-df-convert\" onclick=\"convertToInteractive('df-101c00c0-69fa-47f0-b9f5-608b0d55d76b')\"\n",
              "            title=\"Convert this dataframe to an interactive table.\"\n",
              "            style=\"display:none;\">\n",
              "\n",
              "  <svg xmlns=\"http://www.w3.org/2000/svg\" height=\"24px\" viewBox=\"0 -960 960 960\">\n",
              "    <path d=\"M120-120v-720h720v720H120Zm60-500h600v-160H180v160Zm220 220h160v-160H400v160Zm0 220h160v-160H400v160ZM180-400h160v-160H180v160Zm440 0h160v-160H620v160ZM180-180h160v-160H180v160Zm440 0h160v-160H620v160Z\"/>\n",
              "  </svg>\n",
              "    </button>\n",
              "\n",
              "  <style>\n",
              "    .colab-df-container {\n",
              "      display:flex;\n",
              "      gap: 12px;\n",
              "    }\n",
              "\n",
              "    .colab-df-convert {\n",
              "      background-color: #E8F0FE;\n",
              "      border: none;\n",
              "      border-radius: 50%;\n",
              "      cursor: pointer;\n",
              "      display: none;\n",
              "      fill: #1967D2;\n",
              "      height: 32px;\n",
              "      padding: 0 0 0 0;\n",
              "      width: 32px;\n",
              "    }\n",
              "\n",
              "    .colab-df-convert:hover {\n",
              "      background-color: #E2EBFA;\n",
              "      box-shadow: 0px 1px 2px rgba(60, 64, 67, 0.3), 0px 1px 3px 1px rgba(60, 64, 67, 0.15);\n",
              "      fill: #174EA6;\n",
              "    }\n",
              "\n",
              "    .colab-df-buttons div {\n",
              "      margin-bottom: 4px;\n",
              "    }\n",
              "\n",
              "    [theme=dark] .colab-df-convert {\n",
              "      background-color: #3B4455;\n",
              "      fill: #D2E3FC;\n",
              "    }\n",
              "\n",
              "    [theme=dark] .colab-df-convert:hover {\n",
              "      background-color: #434B5C;\n",
              "      box-shadow: 0px 1px 3px 1px rgba(0, 0, 0, 0.15);\n",
              "      filter: drop-shadow(0px 1px 2px rgba(0, 0, 0, 0.3));\n",
              "      fill: #FFFFFF;\n",
              "    }\n",
              "  </style>\n",
              "\n",
              "    <script>\n",
              "      const buttonEl =\n",
              "        document.querySelector('#df-101c00c0-69fa-47f0-b9f5-608b0d55d76b button.colab-df-convert');\n",
              "      buttonEl.style.display =\n",
              "        google.colab.kernel.accessAllowed ? 'block' : 'none';\n",
              "\n",
              "      async function convertToInteractive(key) {\n",
              "        const element = document.querySelector('#df-101c00c0-69fa-47f0-b9f5-608b0d55d76b');\n",
              "        const dataTable =\n",
              "          await google.colab.kernel.invokeFunction('convertToInteractive',\n",
              "                                                    [key], {});\n",
              "        if (!dataTable) return;\n",
              "\n",
              "        const docLinkHtml = 'Like what you see? Visit the ' +\n",
              "          '<a target=\"_blank\" href=https://colab.research.google.com/notebooks/data_table.ipynb>data table notebook</a>'\n",
              "          + ' to learn more about interactive tables.';\n",
              "        element.innerHTML = '';\n",
              "        dataTable['output_type'] = 'display_data';\n",
              "        await google.colab.output.renderOutput(dataTable, element);\n",
              "        const docLink = document.createElement('div');\n",
              "        docLink.innerHTML = docLinkHtml;\n",
              "        element.appendChild(docLink);\n",
              "      }\n",
              "    </script>\n",
              "  </div>\n",
              "\n",
              "\n",
              "    <div id=\"df-7e1787a5-8f29-4280-b901-2bc5f51efb86\">\n",
              "      <button class=\"colab-df-quickchart\" onclick=\"quickchart('df-7e1787a5-8f29-4280-b901-2bc5f51efb86')\"\n",
              "                title=\"Suggest charts\"\n",
              "                style=\"display:none;\">\n",
              "\n",
              "<svg xmlns=\"http://www.w3.org/2000/svg\" height=\"24px\"viewBox=\"0 0 24 24\"\n",
              "     width=\"24px\">\n",
              "    <g>\n",
              "        <path d=\"M19 3H5c-1.1 0-2 .9-2 2v14c0 1.1.9 2 2 2h14c1.1 0 2-.9 2-2V5c0-1.1-.9-2-2-2zM9 17H7v-7h2v7zm4 0h-2V7h2v10zm4 0h-2v-4h2v4z\"/>\n",
              "    </g>\n",
              "</svg>\n",
              "      </button>\n",
              "\n",
              "<style>\n",
              "  .colab-df-quickchart {\n",
              "      --bg-color: #E8F0FE;\n",
              "      --fill-color: #1967D2;\n",
              "      --hover-bg-color: #E2EBFA;\n",
              "      --hover-fill-color: #174EA6;\n",
              "      --disabled-fill-color: #AAA;\n",
              "      --disabled-bg-color: #DDD;\n",
              "  }\n",
              "\n",
              "  [theme=dark] .colab-df-quickchart {\n",
              "      --bg-color: #3B4455;\n",
              "      --fill-color: #D2E3FC;\n",
              "      --hover-bg-color: #434B5C;\n",
              "      --hover-fill-color: #FFFFFF;\n",
              "      --disabled-bg-color: #3B4455;\n",
              "      --disabled-fill-color: #666;\n",
              "  }\n",
              "\n",
              "  .colab-df-quickchart {\n",
              "    background-color: var(--bg-color);\n",
              "    border: none;\n",
              "    border-radius: 50%;\n",
              "    cursor: pointer;\n",
              "    display: none;\n",
              "    fill: var(--fill-color);\n",
              "    height: 32px;\n",
              "    padding: 0;\n",
              "    width: 32px;\n",
              "  }\n",
              "\n",
              "  .colab-df-quickchart:hover {\n",
              "    background-color: var(--hover-bg-color);\n",
              "    box-shadow: 0 1px 2px rgba(60, 64, 67, 0.3), 0 1px 3px 1px rgba(60, 64, 67, 0.15);\n",
              "    fill: var(--button-hover-fill-color);\n",
              "  }\n",
              "\n",
              "  .colab-df-quickchart-complete:disabled,\n",
              "  .colab-df-quickchart-complete:disabled:hover {\n",
              "    background-color: var(--disabled-bg-color);\n",
              "    fill: var(--disabled-fill-color);\n",
              "    box-shadow: none;\n",
              "  }\n",
              "\n",
              "  .colab-df-spinner {\n",
              "    border: 2px solid var(--fill-color);\n",
              "    border-color: transparent;\n",
              "    border-bottom-color: var(--fill-color);\n",
              "    animation:\n",
              "      spin 1s steps(1) infinite;\n",
              "  }\n",
              "\n",
              "  @keyframes spin {\n",
              "    0% {\n",
              "      border-color: transparent;\n",
              "      border-bottom-color: var(--fill-color);\n",
              "      border-left-color: var(--fill-color);\n",
              "    }\n",
              "    20% {\n",
              "      border-color: transparent;\n",
              "      border-left-color: var(--fill-color);\n",
              "      border-top-color: var(--fill-color);\n",
              "    }\n",
              "    30% {\n",
              "      border-color: transparent;\n",
              "      border-left-color: var(--fill-color);\n",
              "      border-top-color: var(--fill-color);\n",
              "      border-right-color: var(--fill-color);\n",
              "    }\n",
              "    40% {\n",
              "      border-color: transparent;\n",
              "      border-right-color: var(--fill-color);\n",
              "      border-top-color: var(--fill-color);\n",
              "    }\n",
              "    60% {\n",
              "      border-color: transparent;\n",
              "      border-right-color: var(--fill-color);\n",
              "    }\n",
              "    80% {\n",
              "      border-color: transparent;\n",
              "      border-right-color: var(--fill-color);\n",
              "      border-bottom-color: var(--fill-color);\n",
              "    }\n",
              "    90% {\n",
              "      border-color: transparent;\n",
              "      border-bottom-color: var(--fill-color);\n",
              "    }\n",
              "  }\n",
              "</style>\n",
              "\n",
              "      <script>\n",
              "        async function quickchart(key) {\n",
              "          const quickchartButtonEl =\n",
              "            document.querySelector('#' + key + ' button');\n",
              "          quickchartButtonEl.disabled = true;  // To prevent multiple clicks.\n",
              "          quickchartButtonEl.classList.add('colab-df-spinner');\n",
              "          try {\n",
              "            const charts = await google.colab.kernel.invokeFunction(\n",
              "                'suggestCharts', [key], {});\n",
              "          } catch (error) {\n",
              "            console.error('Error during call to suggestCharts:', error);\n",
              "          }\n",
              "          quickchartButtonEl.classList.remove('colab-df-spinner');\n",
              "          quickchartButtonEl.classList.add('colab-df-quickchart-complete');\n",
              "        }\n",
              "        (() => {\n",
              "          let quickchartButtonEl =\n",
              "            document.querySelector('#df-7e1787a5-8f29-4280-b901-2bc5f51efb86 button');\n",
              "          quickchartButtonEl.style.display =\n",
              "            google.colab.kernel.accessAllowed ? 'block' : 'none';\n",
              "        })();\n",
              "      </script>\n",
              "    </div>\n",
              "    </div>\n",
              "  </div>\n"
            ],
            "application/vnd.google.colaboratory.intrinsic+json": {
              "type": "dataframe",
              "variable_name": "df",
              "summary": "{\n  \"name\": \"df\",\n  \"rows\": 30225,\n  \"fields\": [\n    {\n      \"column\": \"Text\",\n      \"properties\": {\n        \"dtype\": \"string\",\n        \"num_unique_values\": 28760,\n        \"samples\": [\n          \"Talking about the hard-hitting topics like chat gpt 3, copywriting, and Andrew Tate with down syndrome\",\n          \"ChatGPT is increasingly becoming a real intelligent assistant, capable of proofreading and discussing my essays with me and recommending changes.\",\n          \"If schools taught curiosity rather than tests and essays? AI tools and chatbots like ChatGPT wouldnt be threats, theyd be the revolution for education weve been waiting for.\"\n        ],\n        \"semantic_type\": \"\",\n        \"description\": \"\"\n      }\n    },\n    {\n      \"column\": \"negative\",\n      \"properties\": {\n        \"dtype\": \"number\",\n        \"std\": 0.34985330607243514,\n        \"min\": 0.001619317,\n        \"max\": 0.98508286,\n        \"num_unique_values\": 28712,\n        \"samples\": [\n          0.008479822,\n          0.008705117,\n          0.91697466\n        ],\n        \"semantic_type\": \"\",\n        \"description\": \"\"\n      }\n    },\n    {\n      \"column\": \"neutral\",\n      \"properties\": {\n        \"dtype\": \"number\",\n        \"std\": 0.3756268595019443,\n        \"min\": 0.005360633,\n        \"max\": 0.9920441,\n        \"num_unique_values\": 28691,\n        \"samples\": [\n          0.040004164,\n          0.95481575,\n          0.009862123\n        ],\n        \"semantic_type\": \"\",\n        \"description\": \"\"\n      }\n    },\n    {\n      \"column\": \"positive\",\n      \"properties\": {\n        \"dtype\": \"number\",\n        \"std\": 0.37794570791377374,\n        \"min\": 0.0041106273,\n        \"max\": 0.99033207,\n        \"num_unique_values\": 28702,\n        \"samples\": [\n          0.010504318,\n          0.28157488,\n          0.63168615\n        ],\n        \"semantic_type\": \"\",\n        \"description\": \"\"\n      }\n    },\n    {\n      \"column\": \"predicted_label\",\n      \"properties\": {\n        \"dtype\": \"category\",\n        \"num_unique_values\": 3,\n        \"samples\": [\n          \"negative\",\n          \"neutral\",\n          \"positive\"\n        ],\n        \"semantic_type\": \"\",\n        \"description\": \"\"\n      }\n    },\n    {\n      \"column\": \"date\",\n      \"properties\": {\n        \"dtype\": \"object\",\n        \"num_unique_values\": 30096,\n        \"samples\": [\n          \"2023-02-08 16:05:03+00:00\",\n          \"2023-02-06 02:42:34+00:00\",\n          \"2022-12-08 21:07:16+00:00\"\n        ],\n        \"semantic_type\": \"\",\n        \"description\": \"\"\n      }\n    },\n    {\n      \"column\": \"likes\",\n      \"properties\": {\n        \"dtype\": \"number\",\n        \"std\": 260,\n        \"min\": 0,\n        \"max\": 22521,\n        \"num_unique_values\": 321,\n        \"samples\": [\n          6729,\n          34,\n          289\n        ],\n        \"semantic_type\": \"\",\n        \"description\": \"\"\n      }\n    },\n    {\n      \"column\": \"location\",\n      \"properties\": {\n        \"dtype\": \"category\",\n        \"num_unique_values\": 8798,\n        \"samples\": [\n          \"Lombok\",\n          \"Madrid & Fort Collins \",\n          \"Oort Cloud\"\n        ],\n        \"semantic_type\": \"\",\n        \"description\": \"\"\n      }\n    },\n    {\n      \"column\": \"followers\",\n      \"properties\": {\n        \"dtype\": \"number\",\n        \"std\": 441029,\n        \"min\": 0,\n        \"max\": 25742960,\n        \"num_unique_values\": 7458,\n        \"samples\": [\n          22187,\n          482,\n          1323\n        ],\n        \"semantic_type\": \"\",\n        \"description\": \"\"\n      }\n    },\n    {\n      \"column\": \"following\",\n      \"properties\": {\n        \"dtype\": \"number\",\n        \"std\": 8710,\n        \"min\": 0,\n        \"max\": 602568,\n        \"num_unique_values\": 4696,\n        \"samples\": [\n          21438,\n          2463,\n          2464\n        ],\n        \"semantic_type\": \"\",\n        \"description\": \"\"\n      }\n    },\n    {\n      \"column\": \"retweets\",\n      \"properties\": {\n        \"dtype\": \"number\",\n        \"std\": 44,\n        \"min\": 0,\n        \"max\": 4115,\n        \"num_unique_values\": 132,\n        \"samples\": [\n          347,\n          29,\n          99\n        ],\n        \"semantic_type\": \"\",\n        \"description\": \"\"\n      }\n    },\n    {\n      \"column\": \"replies\",\n      \"properties\": {\n        \"dtype\": \"number\",\n        \"std\": 40,\n        \"min\": 0,\n        \"max\": 3982,\n        \"num_unique_values\": 93,\n        \"samples\": [\n          41,\n          33,\n          392\n        ],\n        \"semantic_type\": \"\",\n        \"description\": \"\"\n      }\n    }\n  ]\n}"
            }
          },
          "metadata": {},
          "execution_count": 58
        }
      ]
    },
    {
      "cell_type": "code",
      "source": [
        "df['predicted_label'].value_counts()\n",
        "# похоже на оригинальное распределение"
      ],
      "metadata": {
        "colab": {
          "base_uri": "https://localhost:8080/",
          "height": 209
        },
        "id": "lDIWa-0AxTsc",
        "outputId": "ac60535b-0fc3-4f18-9a92-666c24666158"
      },
      "execution_count": 59,
      "outputs": [
        {
          "output_type": "execute_result",
          "data": {
            "text/plain": [
              "predicted_label\n",
              "neutral     13707\n",
              "positive    10043\n",
              "negative     6475\n",
              "Name: count, dtype: int64"
            ],
            "text/html": [
              "<div>\n",
              "<style scoped>\n",
              "    .dataframe tbody tr th:only-of-type {\n",
              "        vertical-align: middle;\n",
              "    }\n",
              "\n",
              "    .dataframe tbody tr th {\n",
              "        vertical-align: top;\n",
              "    }\n",
              "\n",
              "    .dataframe thead th {\n",
              "        text-align: right;\n",
              "    }\n",
              "</style>\n",
              "<table border=\"1\" class=\"dataframe\">\n",
              "  <thead>\n",
              "    <tr style=\"text-align: right;\">\n",
              "      <th></th>\n",
              "      <th>count</th>\n",
              "    </tr>\n",
              "    <tr>\n",
              "      <th>predicted_label</th>\n",
              "      <th></th>\n",
              "    </tr>\n",
              "  </thead>\n",
              "  <tbody>\n",
              "    <tr>\n",
              "      <th>neutral</th>\n",
              "      <td>13707</td>\n",
              "    </tr>\n",
              "    <tr>\n",
              "      <th>positive</th>\n",
              "      <td>10043</td>\n",
              "    </tr>\n",
              "    <tr>\n",
              "      <th>negative</th>\n",
              "      <td>6475</td>\n",
              "    </tr>\n",
              "  </tbody>\n",
              "</table>\n",
              "</div><br><label><b>dtype:</b> int64</label>"
            ]
          },
          "metadata": {},
          "execution_count": 59
        }
      ]
    },
    {
      "cell_type": "code",
      "source": [
        "# чистка текстов: лемматизация, удаление стоп-слов\n",
        "# для уменьшения размерности данных\n",
        "# POS tag mapping for lemmatization\n",
        "def get_wordnet_pos(treebank_tag):\n",
        "    if treebank_tag.startswith('J'):\n",
        "        return wordnet.ADJ\n",
        "    elif treebank_tag.startswith('V'):\n",
        "        return wordnet.VERB\n",
        "    elif treebank_tag.startswith('N'):\n",
        "        return wordnet.NOUN\n",
        "    elif treebank_tag.startswith('R'):\n",
        "        return wordnet.ADV\n",
        "    else:\n",
        "        return wordnet.NOUN\n",
        "\n",
        "def preprocessing(text):\n",
        "    text = text.lower()\n",
        "    text = re.sub(r'[^a-zA-Z\\s]', '', text) # оставляем только слова на латинице\n",
        "    text = re.sub(r'chat gpt', 'chatgpt', text) # chatgpt записан разными вариантами, нормализуем + делаем так, чтобы эти два слова рассматривались как одно\n",
        "    text = re.sub(r'\\s+', ' ', text).strip() # убираем лишние пробелы\n",
        "\n",
        "    words = text.split()\n",
        "\n",
        "    stop_words = stopwords.words('english')\n",
        "    filtered_words = [word for word in words if word not in stop_words]\n",
        "\n",
        "    # POS tagging and lemmatization\n",
        "    pos_tags = pos_tag(filtered_words)\n",
        "    lemmatized_words = [\n",
        "        lemmatizer.lemmatize(word, get_wordnet_pos(tag)) for word, tag in pos_tags\n",
        "    ]\n",
        "\n",
        "    return ' '.join(lemmatized_words)"
      ],
      "metadata": {
        "id": "kzEGyGZJEOcD"
      },
      "execution_count": 5,
      "outputs": []
    },
    {
      "cell_type": "code",
      "source": [
        "df[\"cleaned_text\"] = df[\"Text\"].apply(preprocessing)\n",
        "\n",
        "df.head() # самый столбец - вычищенные тексты"
      ],
      "metadata": {
        "id": "9wm55K2XDQJD",
        "colab": {
          "base_uri": "https://localhost:8080/",
          "height": 327
        },
        "outputId": "b896c84e-48fb-43f9-9148-bef8f3ce7ac5"
      },
      "execution_count": 6,
      "outputs": [
        {
          "output_type": "execute_result",
          "data": {
            "text/plain": [
              "                                                Text  negative   neutral  \\\n",
              "0  ChatGPT is excellent. It exceeded all expectat...  0.483196  0.279364   \n",
              "1  I tried it, also tried to make ChatGPT explain...  0.729446  0.245938   \n",
              "2   ChatGPT PRO is announced at the same people c...  0.967241  0.021922   \n",
              "3  ChatGPT, created by San Francisco company Open...  0.980588  0.012243   \n",
              "4  ChatGPT is predicting an untimely death for Jo...  0.911307  0.077578   \n",
              "\n",
              "   positive predicted_label                       date  likes  \\\n",
              "0  0.237440        negative  2022-12-22 18:14:07+00:00      0   \n",
              "1  0.024616        negative  2023-02-02 09:44:40+00:00      0   \n",
              "2  0.010837        negative  2023-02-03 00:09:33+00:00      3   \n",
              "3  0.007169        negative  2023-02-07 00:48:40+00:00      1   \n",
              "4  0.011116        negative  2023-02-06 23:29:46+00:00      3   \n",
              "\n",
              "              location  followers  following  retweets  replies  \\\n",
              "0      Icaraí, Niterói         98       1073         0        0   \n",
              "1  Cochabamba, Bolivia        441        555         0        0   \n",
              "2          Atlanta, GA        563        219         0        0   \n",
              "3          Philippines      15470         65         1        0   \n",
              "4     Toronto, Ontario       3432        814         0        2   \n",
              "\n",
              "                                        cleaned_text  \n",
              "0  chatgpt excellent exceed expectation question ...  \n",
              "1  try also tried make chatgpt explain able final...  \n",
              "2  chatgpt pro announce people complain high mini...  \n",
              "3  chatgpt create san francisco company openai ca...  \n",
              "4      chatgpt predict untimely death john tory year  "
            ],
            "text/html": [
              "\n",
              "  <div id=\"df-8ff59a40-d5c0-4652-9491-0c0be18517b3\" class=\"colab-df-container\">\n",
              "    <div>\n",
              "<style scoped>\n",
              "    .dataframe tbody tr th:only-of-type {\n",
              "        vertical-align: middle;\n",
              "    }\n",
              "\n",
              "    .dataframe tbody tr th {\n",
              "        vertical-align: top;\n",
              "    }\n",
              "\n",
              "    .dataframe thead th {\n",
              "        text-align: right;\n",
              "    }\n",
              "</style>\n",
              "<table border=\"1\" class=\"dataframe\">\n",
              "  <thead>\n",
              "    <tr style=\"text-align: right;\">\n",
              "      <th></th>\n",
              "      <th>Text</th>\n",
              "      <th>negative</th>\n",
              "      <th>neutral</th>\n",
              "      <th>positive</th>\n",
              "      <th>predicted_label</th>\n",
              "      <th>date</th>\n",
              "      <th>likes</th>\n",
              "      <th>location</th>\n",
              "      <th>followers</th>\n",
              "      <th>following</th>\n",
              "      <th>retweets</th>\n",
              "      <th>replies</th>\n",
              "      <th>cleaned_text</th>\n",
              "    </tr>\n",
              "  </thead>\n",
              "  <tbody>\n",
              "    <tr>\n",
              "      <th>0</th>\n",
              "      <td>ChatGPT is excellent. It exceeded all expectat...</td>\n",
              "      <td>0.483196</td>\n",
              "      <td>0.279364</td>\n",
              "      <td>0.237440</td>\n",
              "      <td>negative</td>\n",
              "      <td>2022-12-22 18:14:07+00:00</td>\n",
              "      <td>0</td>\n",
              "      <td>Icaraí, Niterói</td>\n",
              "      <td>98</td>\n",
              "      <td>1073</td>\n",
              "      <td>0</td>\n",
              "      <td>0</td>\n",
              "      <td>chatgpt excellent exceed expectation question ...</td>\n",
              "    </tr>\n",
              "    <tr>\n",
              "      <th>1</th>\n",
              "      <td>I tried it, also tried to make ChatGPT explain...</td>\n",
              "      <td>0.729446</td>\n",
              "      <td>0.245938</td>\n",
              "      <td>0.024616</td>\n",
              "      <td>negative</td>\n",
              "      <td>2023-02-02 09:44:40+00:00</td>\n",
              "      <td>0</td>\n",
              "      <td>Cochabamba, Bolivia</td>\n",
              "      <td>441</td>\n",
              "      <td>555</td>\n",
              "      <td>0</td>\n",
              "      <td>0</td>\n",
              "      <td>try also tried make chatgpt explain able final...</td>\n",
              "    </tr>\n",
              "    <tr>\n",
              "      <th>2</th>\n",
              "      <td>ChatGPT PRO is announced at the same people c...</td>\n",
              "      <td>0.967241</td>\n",
              "      <td>0.021922</td>\n",
              "      <td>0.010837</td>\n",
              "      <td>negative</td>\n",
              "      <td>2023-02-03 00:09:33+00:00</td>\n",
              "      <td>3</td>\n",
              "      <td>Atlanta, GA</td>\n",
              "      <td>563</td>\n",
              "      <td>219</td>\n",
              "      <td>0</td>\n",
              "      <td>0</td>\n",
              "      <td>chatgpt pro announce people complain high mini...</td>\n",
              "    </tr>\n",
              "    <tr>\n",
              "      <th>3</th>\n",
              "      <td>ChatGPT, created by San Francisco company Open...</td>\n",
              "      <td>0.980588</td>\n",
              "      <td>0.012243</td>\n",
              "      <td>0.007169</td>\n",
              "      <td>negative</td>\n",
              "      <td>2023-02-07 00:48:40+00:00</td>\n",
              "      <td>1</td>\n",
              "      <td>Philippines</td>\n",
              "      <td>15470</td>\n",
              "      <td>65</td>\n",
              "      <td>1</td>\n",
              "      <td>0</td>\n",
              "      <td>chatgpt create san francisco company openai ca...</td>\n",
              "    </tr>\n",
              "    <tr>\n",
              "      <th>4</th>\n",
              "      <td>ChatGPT is predicting an untimely death for Jo...</td>\n",
              "      <td>0.911307</td>\n",
              "      <td>0.077578</td>\n",
              "      <td>0.011116</td>\n",
              "      <td>negative</td>\n",
              "      <td>2023-02-06 23:29:46+00:00</td>\n",
              "      <td>3</td>\n",
              "      <td>Toronto, Ontario</td>\n",
              "      <td>3432</td>\n",
              "      <td>814</td>\n",
              "      <td>0</td>\n",
              "      <td>2</td>\n",
              "      <td>chatgpt predict untimely death john tory year</td>\n",
              "    </tr>\n",
              "  </tbody>\n",
              "</table>\n",
              "</div>\n",
              "    <div class=\"colab-df-buttons\">\n",
              "\n",
              "  <div class=\"colab-df-container\">\n",
              "    <button class=\"colab-df-convert\" onclick=\"convertToInteractive('df-8ff59a40-d5c0-4652-9491-0c0be18517b3')\"\n",
              "            title=\"Convert this dataframe to an interactive table.\"\n",
              "            style=\"display:none;\">\n",
              "\n",
              "  <svg xmlns=\"http://www.w3.org/2000/svg\" height=\"24px\" viewBox=\"0 -960 960 960\">\n",
              "    <path d=\"M120-120v-720h720v720H120Zm60-500h600v-160H180v160Zm220 220h160v-160H400v160Zm0 220h160v-160H400v160ZM180-400h160v-160H180v160Zm440 0h160v-160H620v160ZM180-180h160v-160H180v160Zm440 0h160v-160H620v160Z\"/>\n",
              "  </svg>\n",
              "    </button>\n",
              "\n",
              "  <style>\n",
              "    .colab-df-container {\n",
              "      display:flex;\n",
              "      gap: 12px;\n",
              "    }\n",
              "\n",
              "    .colab-df-convert {\n",
              "      background-color: #E8F0FE;\n",
              "      border: none;\n",
              "      border-radius: 50%;\n",
              "      cursor: pointer;\n",
              "      display: none;\n",
              "      fill: #1967D2;\n",
              "      height: 32px;\n",
              "      padding: 0 0 0 0;\n",
              "      width: 32px;\n",
              "    }\n",
              "\n",
              "    .colab-df-convert:hover {\n",
              "      background-color: #E2EBFA;\n",
              "      box-shadow: 0px 1px 2px rgba(60, 64, 67, 0.3), 0px 1px 3px 1px rgba(60, 64, 67, 0.15);\n",
              "      fill: #174EA6;\n",
              "    }\n",
              "\n",
              "    .colab-df-buttons div {\n",
              "      margin-bottom: 4px;\n",
              "    }\n",
              "\n",
              "    [theme=dark] .colab-df-convert {\n",
              "      background-color: #3B4455;\n",
              "      fill: #D2E3FC;\n",
              "    }\n",
              "\n",
              "    [theme=dark] .colab-df-convert:hover {\n",
              "      background-color: #434B5C;\n",
              "      box-shadow: 0px 1px 3px 1px rgba(0, 0, 0, 0.15);\n",
              "      filter: drop-shadow(0px 1px 2px rgba(0, 0, 0, 0.3));\n",
              "      fill: #FFFFFF;\n",
              "    }\n",
              "  </style>\n",
              "\n",
              "    <script>\n",
              "      const buttonEl =\n",
              "        document.querySelector('#df-8ff59a40-d5c0-4652-9491-0c0be18517b3 button.colab-df-convert');\n",
              "      buttonEl.style.display =\n",
              "        google.colab.kernel.accessAllowed ? 'block' : 'none';\n",
              "\n",
              "      async function convertToInteractive(key) {\n",
              "        const element = document.querySelector('#df-8ff59a40-d5c0-4652-9491-0c0be18517b3');\n",
              "        const dataTable =\n",
              "          await google.colab.kernel.invokeFunction('convertToInteractive',\n",
              "                                                    [key], {});\n",
              "        if (!dataTable) return;\n",
              "\n",
              "        const docLinkHtml = 'Like what you see? Visit the ' +\n",
              "          '<a target=\"_blank\" href=https://colab.research.google.com/notebooks/data_table.ipynb>data table notebook</a>'\n",
              "          + ' to learn more about interactive tables.';\n",
              "        element.innerHTML = '';\n",
              "        dataTable['output_type'] = 'display_data';\n",
              "        await google.colab.output.renderOutput(dataTable, element);\n",
              "        const docLink = document.createElement('div');\n",
              "        docLink.innerHTML = docLinkHtml;\n",
              "        element.appendChild(docLink);\n",
              "      }\n",
              "    </script>\n",
              "  </div>\n",
              "\n",
              "\n",
              "    <div id=\"df-c2a8252a-4cf0-4da9-8b6f-fd3c85882cda\">\n",
              "      <button class=\"colab-df-quickchart\" onclick=\"quickchart('df-c2a8252a-4cf0-4da9-8b6f-fd3c85882cda')\"\n",
              "                title=\"Suggest charts\"\n",
              "                style=\"display:none;\">\n",
              "\n",
              "<svg xmlns=\"http://www.w3.org/2000/svg\" height=\"24px\"viewBox=\"0 0 24 24\"\n",
              "     width=\"24px\">\n",
              "    <g>\n",
              "        <path d=\"M19 3H5c-1.1 0-2 .9-2 2v14c0 1.1.9 2 2 2h14c1.1 0 2-.9 2-2V5c0-1.1-.9-2-2-2zM9 17H7v-7h2v7zm4 0h-2V7h2v10zm4 0h-2v-4h2v4z\"/>\n",
              "    </g>\n",
              "</svg>\n",
              "      </button>\n",
              "\n",
              "<style>\n",
              "  .colab-df-quickchart {\n",
              "      --bg-color: #E8F0FE;\n",
              "      --fill-color: #1967D2;\n",
              "      --hover-bg-color: #E2EBFA;\n",
              "      --hover-fill-color: #174EA6;\n",
              "      --disabled-fill-color: #AAA;\n",
              "      --disabled-bg-color: #DDD;\n",
              "  }\n",
              "\n",
              "  [theme=dark] .colab-df-quickchart {\n",
              "      --bg-color: #3B4455;\n",
              "      --fill-color: #D2E3FC;\n",
              "      --hover-bg-color: #434B5C;\n",
              "      --hover-fill-color: #FFFFFF;\n",
              "      --disabled-bg-color: #3B4455;\n",
              "      --disabled-fill-color: #666;\n",
              "  }\n",
              "\n",
              "  .colab-df-quickchart {\n",
              "    background-color: var(--bg-color);\n",
              "    border: none;\n",
              "    border-radius: 50%;\n",
              "    cursor: pointer;\n",
              "    display: none;\n",
              "    fill: var(--fill-color);\n",
              "    height: 32px;\n",
              "    padding: 0;\n",
              "    width: 32px;\n",
              "  }\n",
              "\n",
              "  .colab-df-quickchart:hover {\n",
              "    background-color: var(--hover-bg-color);\n",
              "    box-shadow: 0 1px 2px rgba(60, 64, 67, 0.3), 0 1px 3px 1px rgba(60, 64, 67, 0.15);\n",
              "    fill: var(--button-hover-fill-color);\n",
              "  }\n",
              "\n",
              "  .colab-df-quickchart-complete:disabled,\n",
              "  .colab-df-quickchart-complete:disabled:hover {\n",
              "    background-color: var(--disabled-bg-color);\n",
              "    fill: var(--disabled-fill-color);\n",
              "    box-shadow: none;\n",
              "  }\n",
              "\n",
              "  .colab-df-spinner {\n",
              "    border: 2px solid var(--fill-color);\n",
              "    border-color: transparent;\n",
              "    border-bottom-color: var(--fill-color);\n",
              "    animation:\n",
              "      spin 1s steps(1) infinite;\n",
              "  }\n",
              "\n",
              "  @keyframes spin {\n",
              "    0% {\n",
              "      border-color: transparent;\n",
              "      border-bottom-color: var(--fill-color);\n",
              "      border-left-color: var(--fill-color);\n",
              "    }\n",
              "    20% {\n",
              "      border-color: transparent;\n",
              "      border-left-color: var(--fill-color);\n",
              "      border-top-color: var(--fill-color);\n",
              "    }\n",
              "    30% {\n",
              "      border-color: transparent;\n",
              "      border-left-color: var(--fill-color);\n",
              "      border-top-color: var(--fill-color);\n",
              "      border-right-color: var(--fill-color);\n",
              "    }\n",
              "    40% {\n",
              "      border-color: transparent;\n",
              "      border-right-color: var(--fill-color);\n",
              "      border-top-color: var(--fill-color);\n",
              "    }\n",
              "    60% {\n",
              "      border-color: transparent;\n",
              "      border-right-color: var(--fill-color);\n",
              "    }\n",
              "    80% {\n",
              "      border-color: transparent;\n",
              "      border-right-color: var(--fill-color);\n",
              "      border-bottom-color: var(--fill-color);\n",
              "    }\n",
              "    90% {\n",
              "      border-color: transparent;\n",
              "      border-bottom-color: var(--fill-color);\n",
              "    }\n",
              "  }\n",
              "</style>\n",
              "\n",
              "      <script>\n",
              "        async function quickchart(key) {\n",
              "          const quickchartButtonEl =\n",
              "            document.querySelector('#' + key + ' button');\n",
              "          quickchartButtonEl.disabled = true;  // To prevent multiple clicks.\n",
              "          quickchartButtonEl.classList.add('colab-df-spinner');\n",
              "          try {\n",
              "            const charts = await google.colab.kernel.invokeFunction(\n",
              "                'suggestCharts', [key], {});\n",
              "          } catch (error) {\n",
              "            console.error('Error during call to suggestCharts:', error);\n",
              "          }\n",
              "          quickchartButtonEl.classList.remove('colab-df-spinner');\n",
              "          quickchartButtonEl.classList.add('colab-df-quickchart-complete');\n",
              "        }\n",
              "        (() => {\n",
              "          let quickchartButtonEl =\n",
              "            document.querySelector('#df-c2a8252a-4cf0-4da9-8b6f-fd3c85882cda button');\n",
              "          quickchartButtonEl.style.display =\n",
              "            google.colab.kernel.accessAllowed ? 'block' : 'none';\n",
              "        })();\n",
              "      </script>\n",
              "    </div>\n",
              "    </div>\n",
              "  </div>\n"
            ],
            "application/vnd.google.colaboratory.intrinsic+json": {
              "type": "dataframe",
              "variable_name": "df",
              "summary": "{\n  \"name\": \"df\",\n  \"rows\": 30225,\n  \"fields\": [\n    {\n      \"column\": \"Text\",\n      \"properties\": {\n        \"dtype\": \"string\",\n        \"num_unique_values\": 28760,\n        \"samples\": [\n          \"Talking about the hard-hitting topics like chat gpt 3, copywriting, and Andrew Tate with down syndrome\",\n          \"ChatGPT is increasingly becoming a real intelligent assistant, capable of proofreading and discussing my essays with me and recommending changes.\",\n          \"If schools taught curiosity rather than tests and essays? AI tools and chatbots like ChatGPT wouldnt be threats, theyd be the revolution for education weve been waiting for.\"\n        ],\n        \"semantic_type\": \"\",\n        \"description\": \"\"\n      }\n    },\n    {\n      \"column\": \"negative\",\n      \"properties\": {\n        \"dtype\": \"number\",\n        \"std\": 0.34985330607243514,\n        \"min\": 0.001619317,\n        \"max\": 0.98508286,\n        \"num_unique_values\": 28712,\n        \"samples\": [\n          0.008479822,\n          0.008705117,\n          0.91697466\n        ],\n        \"semantic_type\": \"\",\n        \"description\": \"\"\n      }\n    },\n    {\n      \"column\": \"neutral\",\n      \"properties\": {\n        \"dtype\": \"number\",\n        \"std\": 0.3756268595019443,\n        \"min\": 0.005360633,\n        \"max\": 0.9920441,\n        \"num_unique_values\": 28691,\n        \"samples\": [\n          0.040004164,\n          0.95481575,\n          0.009862123\n        ],\n        \"semantic_type\": \"\",\n        \"description\": \"\"\n      }\n    },\n    {\n      \"column\": \"positive\",\n      \"properties\": {\n        \"dtype\": \"number\",\n        \"std\": 0.37794570791377374,\n        \"min\": 0.0041106273,\n        \"max\": 0.99033207,\n        \"num_unique_values\": 28702,\n        \"samples\": [\n          0.010504318,\n          0.28157488,\n          0.63168615\n        ],\n        \"semantic_type\": \"\",\n        \"description\": \"\"\n      }\n    },\n    {\n      \"column\": \"predicted_label\",\n      \"properties\": {\n        \"dtype\": \"category\",\n        \"num_unique_values\": 3,\n        \"samples\": [\n          \"negative\",\n          \"neutral\",\n          \"positive\"\n        ],\n        \"semantic_type\": \"\",\n        \"description\": \"\"\n      }\n    },\n    {\n      \"column\": \"date\",\n      \"properties\": {\n        \"dtype\": \"object\",\n        \"num_unique_values\": 30096,\n        \"samples\": [\n          \"2023-02-08 16:05:03+00:00\",\n          \"2023-02-06 02:42:34+00:00\",\n          \"2022-12-08 21:07:16+00:00\"\n        ],\n        \"semantic_type\": \"\",\n        \"description\": \"\"\n      }\n    },\n    {\n      \"column\": \"likes\",\n      \"properties\": {\n        \"dtype\": \"number\",\n        \"std\": 260,\n        \"min\": 0,\n        \"max\": 22521,\n        \"num_unique_values\": 321,\n        \"samples\": [\n          6729,\n          34,\n          289\n        ],\n        \"semantic_type\": \"\",\n        \"description\": \"\"\n      }\n    },\n    {\n      \"column\": \"location\",\n      \"properties\": {\n        \"dtype\": \"category\",\n        \"num_unique_values\": 8798,\n        \"samples\": [\n          \"Lombok\",\n          \"Madrid & Fort Collins \",\n          \"Oort Cloud\"\n        ],\n        \"semantic_type\": \"\",\n        \"description\": \"\"\n      }\n    },\n    {\n      \"column\": \"followers\",\n      \"properties\": {\n        \"dtype\": \"number\",\n        \"std\": 441029,\n        \"min\": 0,\n        \"max\": 25742960,\n        \"num_unique_values\": 7458,\n        \"samples\": [\n          22187,\n          482,\n          1323\n        ],\n        \"semantic_type\": \"\",\n        \"description\": \"\"\n      }\n    },\n    {\n      \"column\": \"following\",\n      \"properties\": {\n        \"dtype\": \"number\",\n        \"std\": 8710,\n        \"min\": 0,\n        \"max\": 602568,\n        \"num_unique_values\": 4696,\n        \"samples\": [\n          21438,\n          2463,\n          2464\n        ],\n        \"semantic_type\": \"\",\n        \"description\": \"\"\n      }\n    },\n    {\n      \"column\": \"retweets\",\n      \"properties\": {\n        \"dtype\": \"number\",\n        \"std\": 44,\n        \"min\": 0,\n        \"max\": 4115,\n        \"num_unique_values\": 132,\n        \"samples\": [\n          347,\n          29,\n          99\n        ],\n        \"semantic_type\": \"\",\n        \"description\": \"\"\n      }\n    },\n    {\n      \"column\": \"replies\",\n      \"properties\": {\n        \"dtype\": \"number\",\n        \"std\": 40,\n        \"min\": 0,\n        \"max\": 3982,\n        \"num_unique_values\": 93,\n        \"samples\": [\n          41,\n          33,\n          392\n        ],\n        \"semantic_type\": \"\",\n        \"description\": \"\"\n      }\n    },\n    {\n      \"column\": \"cleaned_text\",\n      \"properties\": {\n        \"dtype\": \"string\",\n        \"num_unique_values\": 27956,\n        \"samples\": [\n          \"witness change technology know open credit postmoderntech horror movie\",\n          \"first prompt chatgpt want see safety mechanisms guideline like ask literally write modernday speech hitler immediately start stop buffer hr guess thats positive\",\n          \"possible add sport prediction chatgpt\"\n        ],\n        \"semantic_type\": \"\",\n        \"description\": \"\"\n      }\n    }\n  ]\n}"
            }
          },
          "metadata": {},
          "execution_count": 6
        }
      ]
    },
    {
      "cell_type": "code",
      "source": [
        "# закодируем строковые метки сентимента в числа\n",
        "label_encoder = LabelEncoder()\n",
        "\n",
        "df['predicted_label'] = label_encoder.fit_transform(df['predicted_label'])\n",
        "\n",
        "y = df['predicted_label']"
      ],
      "metadata": {
        "id": "tAfDrZtvcV2j"
      },
      "execution_count": 7,
      "outputs": []
    },
    {
      "cell_type": "code",
      "source": [
        "# разбиваем на три выборки: train, val, test\n",
        "X = df['cleaned_text']\n",
        "y = df['predicted_label']\n",
        "\n",
        "X_train_val, X_test, y_train_val, y_test = train_test_split(\n",
        "    X, y, test_size=0.2, random_state=42, stratify=y\n",
        ")\n",
        "\n",
        "X_train, X_val, y_train, y_val = train_test_split(\n",
        "    X_train_val, y_train_val, test_size=0.25, random_state=42, stratify=y_train_val\n",
        ")\n",
        "\n",
        "print(f\"Train size: {len(X_train)}\")\n",
        "print(f\"Validation size: {len(X_val)}\")\n",
        "print(f\"Test size: {len(X_test)}\")"
      ],
      "metadata": {
        "colab": {
          "base_uri": "https://localhost:8080/"
        },
        "id": "oe_V0ayrgsBJ",
        "outputId": "2e065f53-b6d4-4448-b3f2-b77d326122ae"
      },
      "execution_count": 8,
      "outputs": [
        {
          "output_type": "stream",
          "name": "stdout",
          "text": [
            "Train size: 18135\n",
            "Validation size: 6045\n",
            "Test size: 6045\n"
          ]
        }
      ]
    },
    {
      "cell_type": "code",
      "source": [
        "# токенизация (приведение к последовательностям) и паддинг (усечение последовательностей)\n",
        "vocab_size = 10000\n",
        "max_length = 50\n",
        "embedding_dim = 100\n",
        "\n",
        "tokenizer = Tokenizer(num_words=vocab_size, oov_token=\"<OOV>\")\n",
        "tokenizer.fit_on_texts(X_train)\n",
        "\n",
        "def tokenize_and_pad(texts, tokenizer, max_length):\n",
        "    seqs = tokenizer.texts_to_sequences(texts)\n",
        "    padded = pad_sequences(seqs, maxlen=max_length, padding='post', truncating='post')\n",
        "    return padded\n",
        "\n",
        "X_train_padded = tokenize_and_pad(X_train, tokenizer, max_length)\n",
        "X_val_padded = tokenize_and_pad(X_val, tokenizer, max_length)\n",
        "X_test_padded = tokenize_and_pad(X_test, tokenizer, max_length)"
      ],
      "metadata": {
        "id": "RYpCa2M4cxfd"
      },
      "execution_count": 9,
      "outputs": []
    },
    {
      "cell_type": "code",
      "source": [
        "model = Sequential([\n",
        "    Embedding(input_dim=vocab_size, output_dim=embedding_dim),\n",
        "    Conv1D(filters=128, kernel_size=5, activation='relu'),\n",
        "    GlobalMaxPooling1D(),\n",
        "    Dense(64, activation='relu'),\n",
        "    Dropout(0.5),\n",
        "    Dense(3, activation='softmax')  # т.к. 3 лейбла, мультиклассовая классификация\n",
        "])\n",
        "\n",
        "model.compile(\n",
        "    loss='sparse_categorical_crossentropy',\n",
        "    optimizer='adam',\n",
        "    metrics=['accuracy']\n",
        ")"
      ],
      "metadata": {
        "id": "z_RdFMmJc2YU"
      },
      "execution_count": 68,
      "outputs": []
    },
    {
      "cell_type": "code",
      "source": [
        "history = model.fit(\n",
        "    X_train_padded,\n",
        "    y_train,\n",
        "    validation_data=(X_val_padded, y_val),\n",
        "    epochs=10,\n",
        "    batch_size=32\n",
        ")"
      ],
      "metadata": {
        "colab": {
          "base_uri": "https://localhost:8080/"
        },
        "id": "oLiG3iAJc5jF",
        "outputId": "e91cd96b-a992-4c40-923e-ae534ff72e8f"
      },
      "execution_count": 69,
      "outputs": [
        {
          "output_type": "stream",
          "name": "stdout",
          "text": [
            "Epoch 1/10\n",
            "\u001b[1m567/567\u001b[0m \u001b[32m━━━━━━━━━━━━━━━━━━━━\u001b[0m\u001b[37m\u001b[0m \u001b[1m19s\u001b[0m 28ms/step - accuracy: 0.5154 - loss: 0.9943 - val_accuracy: 0.6749 - val_loss: 0.7596\n",
            "Epoch 2/10\n",
            "\u001b[1m567/567\u001b[0m \u001b[32m━━━━━━━━━━━━━━━━━━━━\u001b[0m\u001b[37m\u001b[0m \u001b[1m19s\u001b[0m 25ms/step - accuracy: 0.7501 - loss: 0.6377 - val_accuracy: 0.6736 - val_loss: 0.7629\n",
            "Epoch 3/10\n",
            "\u001b[1m567/567\u001b[0m \u001b[32m━━━━━━━━━━━━━━━━━━━━\u001b[0m\u001b[37m\u001b[0m \u001b[1m20s\u001b[0m 25ms/step - accuracy: 0.8579 - loss: 0.4085 - val_accuracy: 0.6657 - val_loss: 0.8632\n",
            "Epoch 4/10\n",
            "\u001b[1m567/567\u001b[0m \u001b[32m━━━━━━━━━━━━━━━━━━━━\u001b[0m\u001b[37m\u001b[0m \u001b[1m14s\u001b[0m 25ms/step - accuracy: 0.9316 - loss: 0.2230 - val_accuracy: 0.6481 - val_loss: 1.0768\n",
            "Epoch 5/10\n",
            "\u001b[1m567/567\u001b[0m \u001b[32m━━━━━━━━━━━━━━━━━━━━\u001b[0m\u001b[37m\u001b[0m \u001b[1m15s\u001b[0m 26ms/step - accuracy: 0.9665 - loss: 0.1204 - val_accuracy: 0.6420 - val_loss: 1.3372\n",
            "Epoch 6/10\n",
            "\u001b[1m567/567\u001b[0m \u001b[32m━━━━━━━━━━━━━━━━━━━━\u001b[0m\u001b[37m\u001b[0m \u001b[1m14s\u001b[0m 24ms/step - accuracy: 0.9787 - loss: 0.0774 - val_accuracy: 0.6514 - val_loss: 1.6619\n",
            "Epoch 7/10\n",
            "\u001b[1m567/567\u001b[0m \u001b[32m━━━━━━━━━━━━━━━━━━━━\u001b[0m\u001b[37m\u001b[0m \u001b[1m14s\u001b[0m 24ms/step - accuracy: 0.9851 - loss: 0.0513 - val_accuracy: 0.6369 - val_loss: 1.6845\n",
            "Epoch 8/10\n",
            "\u001b[1m567/567\u001b[0m \u001b[32m━━━━━━━━━━━━━━━━━━━━\u001b[0m\u001b[37m\u001b[0m \u001b[1m15s\u001b[0m 27ms/step - accuracy: 0.9860 - loss: 0.0498 - val_accuracy: 0.6372 - val_loss: 2.0611\n",
            "Epoch 9/10\n",
            "\u001b[1m567/567\u001b[0m \u001b[32m━━━━━━━━━━━━━━━━━━━━\u001b[0m\u001b[37m\u001b[0m \u001b[1m19s\u001b[0m 25ms/step - accuracy: 0.9870 - loss: 0.0470 - val_accuracy: 0.6323 - val_loss: 2.0626\n",
            "Epoch 10/10\n",
            "\u001b[1m567/567\u001b[0m \u001b[32m━━━━━━━━━━━━━━━━━━━━\u001b[0m\u001b[37m\u001b[0m \u001b[1m20s\u001b[0m 25ms/step - accuracy: 0.9908 - loss: 0.0367 - val_accuracy: 0.6380 - val_loss: 2.3472\n"
          ]
        }
      ]
    },
    {
      "cell_type": "markdown",
      "source": [
        "Лоссы на обучении падают, а на валидации -- возрастают. Модель переобучилась."
      ],
      "metadata": {
        "id": "K4Q6W4HO2BFm"
      }
    },
    {
      "cell_type": "code",
      "source": [
        "loss, accuracy = model.evaluate(X_test_padded, y_test)\n",
        "print(f\"Test Accuracy: {accuracy:.4f}\")\n",
        "# ну такое, хотя не так плохо, как могло бы быть"
      ],
      "metadata": {
        "colab": {
          "base_uri": "https://localhost:8080/"
        },
        "id": "JFR4XyVHdCod",
        "outputId": "d649a0bd-12c3-4738-a1fe-c48c9c312c7a"
      },
      "execution_count": 70,
      "outputs": [
        {
          "output_type": "stream",
          "name": "stdout",
          "text": [
            "\u001b[1m189/189\u001b[0m \u001b[32m━━━━━━━━━━━━━━━━━━━━\u001b[0m\u001b[37m\u001b[0m \u001b[1m2s\u001b[0m 9ms/step - accuracy: 0.6293 - loss: 2.4308\n",
            "Test Accuracy: 0.6374\n"
          ]
        }
      ]
    },
    {
      "cell_type": "code",
      "source": [
        "plt.plot(history.history['accuracy'], label='Training Accuracy')\n",
        "plt.plot(history.history['val_accuracy'], label='Validation Accuracy')\n",
        "plt.title('Training and Validation Accuracy')\n",
        "plt.xlabel('Epoch')\n",
        "plt.ylabel('Accuracy')\n",
        "plt.legend()\n",
        "plt.show()"
      ],
      "metadata": {
        "colab": {
          "base_uri": "https://localhost:8080/",
          "height": 472
        },
        "id": "2sw_gajydIvY",
        "outputId": "213db196-7468-4e0d-a21b-b5f015bfb24e"
      },
      "execution_count": 71,
      "outputs": [
        {
          "output_type": "display_data",
          "data": {
            "text/plain": [
              "<Figure size 640x480 with 1 Axes>"
            ],
            "image/png": "[encoded data removed]"
          },
          "metadata": {}
        }
      ]
    },
    {
      "cell_type": "code",
      "source": [
        "# Get predicted class indices\n",
        "y_test_pred_prob = model.predict(X_test_padded)\n",
        "y_test_pred = np.argmax(y_test_pred_prob, axis=1)"
      ],
      "metadata": {
        "colab": {
          "base_uri": "https://localhost:8080/"
        },
        "id": "iNMl039XqGBF",
        "outputId": "de8b04e6-bf97-4ab4-8b6d-dbdeff9ecc45"
      },
      "execution_count": 72,
      "outputs": [
        {
          "output_type": "stream",
          "name": "stdout",
          "text": [
            "\u001b[1m189/189\u001b[0m \u001b[32m━━━━━━━━━━━━━━━━━━━━\u001b[0m\u001b[37m\u001b[0m \u001b[1m2s\u001b[0m 7ms/step\n"
          ]
        }
      ]
    },
    {
      "cell_type": "code",
      "source": [
        "# возвращаем лейблы к строкам\n",
        "y_true = y_test\n",
        "\n",
        "# считаем матрицу ошибок\n",
        "cm = confusion_matrix(y_true, y_test_pred)\n",
        "\n",
        "# рисуем\n",
        "plt.figure(figsize=(8, 6))\n",
        "sns.heatmap(cm, annot=True, fmt='d', cmap='Blues', cbar=False,\n",
        "            xticklabels=label_encoder.classes_, yticklabels=label_encoder.classes_)\n",
        "\n",
        "plt.xlabel('Predicted')\n",
        "plt.ylabel('True')\n",
        "plt.title('Confusion Matrix')\n",
        "plt.xticks(ticks=np.arange(len(label_encoder.classes_)) + 0.5, labels=label_encoder.classes_)\n",
        "plt.yticks(ticks=np.arange(len(label_encoder.classes_)) + 0.5, labels=label_encoder.classes_)\n",
        "plt.show()"
      ],
      "metadata": {
        "colab": {
          "base_uri": "https://localhost:8080/",
          "height": 564
        },
        "id": "cDhJZATwqIed",
        "outputId": "e7ec317a-3ef3-48d9-b719-3809bfc1b82c"
      },
      "execution_count": 74,
      "outputs": [
        {
          "output_type": "display_data",
          "data": {
            "text/plain": [
              "<Figure size 800x600 with 1 Axes>"
            ],
            "image/png": "[encoded data removed]"
          },
          "metadata": {}
        }
      ]
    },
    {
      "cell_type": "code",
      "source": [
        "# посмотрим также репорт\n",
        "print(\"Classification Report:\")\n",
        "print(classification_report(y_true, y_test_pred, target_names=label_encoder.classes_))"
      ],
      "metadata": {
        "colab": {
          "base_uri": "https://localhost:8080/"
        },
        "id": "hWw4QO3nsvr4",
        "outputId": "14216de9-0c7b-4e11-baf0-ae763d3c8917"
      },
      "execution_count": 75,
      "outputs": [
        {
          "output_type": "stream",
          "name": "stdout",
          "text": [
            "Classification Report:\n",
            "              precision    recall  f1-score   support\n",
            "\n",
            "    negative       0.55      0.54      0.54      1295\n",
            "     neutral       0.65      0.71      0.68      2741\n",
            "    positive       0.67      0.61      0.64      2009\n",
            "\n",
            "    accuracy                           0.64      6045\n",
            "   macro avg       0.62      0.62      0.62      6045\n",
            "weighted avg       0.64      0.64      0.64      6045\n",
            "\n"
          ]
        }
      ]
    },
    {
      "cell_type": "markdown",
      "source": [
        "Легче всего модели было предсказывать нейтральный класс, и это неудивительно:\n",
        "\n",
        "- это доминирующий класс (что, кстати, может само по себе уменьшать качество работы модели),\n",
        "- для этого не нужно искать определенные особенности в тексте.\n",
        "\n",
        "Пробуем потюнить параметры модели:\n",
        "\n",
        "*Здесь я снова использую model, потому что удаляла перемнные и окружение перед этим. Дальше буду переназывать модели, чтобы они не наслаивались.*"
      ],
      "metadata": {
        "id": "pFdEzJQ92bDK"
      }
    },
    {
      "cell_type": "code",
      "source": [
        "model = Sequential([\n",
        "    Embedding(input_dim=vocab_size, output_dim=embedding_dim),\n",
        "    Conv1D(filters=64, kernel_size=3, activation='relu',\n",
        "           kernel_regularizer=l2(0.001)), # изменила на триграммы\n",
        "    # твиты сравнительно коротки по длине, поэтому длинных последовательностей там быть не должно\n",
        "    # также уменьшила кол-во фильтров\n",
        "    BatchNormalization(), # нормализация между слоями\n",
        "    GlobalMaxPooling1D(),\n",
        "    Dense(32, activation='relu',\n",
        "          kernel_regularizer=l2(0.005)),\n",
        "    Dropout(0.5),\n",
        "    Dense(3, activation='softmax')\n",
        "])\n",
        "\n",
        "model.compile(\n",
        "    loss='sparse_categorical_crossentropy',\n",
        "    optimizer='adamw', # улучшенный адам\n",
        "    metrics=['accuracy']\n",
        ")"
      ],
      "metadata": {
        "id": "gnRkXqxZGEUp"
      },
      "execution_count": 11,
      "outputs": []
    },
    {
      "cell_type": "code",
      "source": [
        "# останавливаем обучение, если на валидации прекращается улучшение\n",
        "callbacks = [\n",
        "    EarlyStopping(patience=3, restore_best_weights=True),\n",
        "    ReduceLROnPlateau(factor=0.2, patience=2)\n",
        "]\n",
        "\n",
        "history = model.fit(\n",
        "    X_train_padded,\n",
        "    y_train,\n",
        "    validation_data=(X_val_padded, y_val),\n",
        "    epochs=10,\n",
        "    batch_size=32,\n",
        "    callbacks=callbacks\n",
        ")"
      ],
      "metadata": {
        "colab": {
          "base_uri": "https://localhost:8080/"
        },
        "outputId": "54b0ed4c-12dc-4b34-cf16-7eff912e8bf4",
        "id": "iQelZjgvGEUs"
      },
      "execution_count": 12,
      "outputs": [
        {
          "output_type": "stream",
          "name": "stdout",
          "text": [
            "Epoch 1/10\n",
            "\u001b[1m567/567\u001b[0m \u001b[32m━━━━━━━━━━━━━━━━━━━━\u001b[0m\u001b[37m\u001b[0m \u001b[1m14s\u001b[0m 20ms/step - accuracy: 0.4643 - loss: 1.3246 - val_accuracy: 0.6301 - val_loss: 1.0436 - learning_rate: 0.0010\n",
            "Epoch 2/10\n",
            "\u001b[1m567/567\u001b[0m \u001b[32m━━━━━━━━━━━━━━━━━━━━\u001b[0m\u001b[37m\u001b[0m \u001b[1m19s\u001b[0m 17ms/step - accuracy: 0.7121 - loss: 0.8363 - val_accuracy: 0.6462 - val_loss: 0.9133 - learning_rate: 0.0010\n",
            "Epoch 3/10\n",
            "\u001b[1m567/567\u001b[0m \u001b[32m━━━━━━━━━━━━━━━━━━━━\u001b[0m\u001b[37m\u001b[0m \u001b[1m10s\u001b[0m 18ms/step - accuracy: 0.8279 - loss: 0.5596 - val_accuracy: 0.6415 - val_loss: 0.9810 - learning_rate: 0.0010\n",
            "Epoch 4/10\n",
            "\u001b[1m567/567\u001b[0m \u001b[32m━━━━━━━━━━━━━━━━━━━━\u001b[0m\u001b[37m\u001b[0m \u001b[1m20s\u001b[0m 17ms/step - accuracy: 0.8994 - loss: 0.3742 - val_accuracy: 0.6380 - val_loss: 1.1197 - learning_rate: 0.0010\n",
            "Epoch 5/10\n",
            "\u001b[1m567/567\u001b[0m \u001b[32m━━━━━━━━━━━━━━━━━━━━\u001b[0m\u001b[37m\u001b[0m \u001b[1m10s\u001b[0m 18ms/step - accuracy: 0.9461 - loss: 0.2486 - val_accuracy: 0.6374 - val_loss: 1.3520 - learning_rate: 2.0000e-04\n"
          ]
        }
      ]
    },
    {
      "cell_type": "code",
      "source": [
        "loss, accuracy = model.evaluate(X_test_padded, y_test)\n",
        "print(f\"Test Accuracy: {accuracy:.4f}\")\n",
        "# м-да"
      ],
      "metadata": {
        "colab": {
          "base_uri": "https://localhost:8080/"
        },
        "outputId": "e207f9e5-e61d-481e-950e-857e15830204",
        "id": "Z4-kb1fCGEUt"
      },
      "execution_count": 13,
      "outputs": [
        {
          "output_type": "stream",
          "name": "stdout",
          "text": [
            "\u001b[1m189/189\u001b[0m \u001b[32m━━━━━━━━━━━━━━━━━━━━\u001b[0m\u001b[37m\u001b[0m \u001b[1m1s\u001b[0m 3ms/step - accuracy: 0.6446 - loss: 0.9226\n",
            "Test Accuracy: 0.6495\n"
          ]
        }
      ]
    },
    {
      "cell_type": "code",
      "source": [
        "# Отрисовка графика прогресса обучения\n",
        "plt.figure(figsize=(12, 4))\n",
        "\n",
        "# Отрисовка аккуратности (точности) модели\n",
        "plt.subplot(1, 2, 1)\n",
        "plt.plot(history.history['accuracy'], label='Training Accuracy')\n",
        "plt.plot(history.history['val_accuracy'], label='Validation Accuracy')\n",
        "plt.title('Training and Validation Accuracy')\n",
        "plt.xlabel('Epoch')\n",
        "plt.ylabel('Accuracy')\n",
        "plt.legend()\n",
        "\n",
        "# Отрисовка значений функции потерь\n",
        "plt.subplot(1, 2, 2)\n",
        "plt.plot(history.history['loss'], label='Training Loss')\n",
        "plt.plot(history.history['val_loss'], label='Validation Loss')\n",
        "plt.title('Training and Validation Loss')\n",
        "plt.xlabel('Epoch')\n",
        "plt.ylabel('Loss')\n",
        "plt.legend()\n",
        "\n",
        "plt.tight_layout()\n",
        "plt.show()\n",
        "# м-да х2\n",
        "# но экьюраси на вале стала стабильнее"
      ],
      "metadata": {
        "colab": {
          "base_uri": "https://localhost:8080/",
          "height": 407
        },
        "outputId": "ddd02e4c-1140-43d1-e9a7-9b39212aedc5",
        "id": "s1m-H21dGEUu"
      },
      "execution_count": 15,
      "outputs": [
        {
          "output_type": "display_data",
          "data": {
            "text/plain": [
              "<Figure size 1200x400 with 2 Axes>"
            ],
            "image/png": "[encoded data removed]"
          },
          "metadata": {}
        }
      ]
    },
    {
      "cell_type": "code",
      "source": [
        "# Get predicted class indices\n",
        "y_test_pred_prob = model.predict(X_test_padded)\n",
        "y_test_pred = np.argmax(y_test_pred_prob, axis=1)"
      ],
      "metadata": {
        "colab": {
          "base_uri": "https://localhost:8080/"
        },
        "outputId": "513c3b7b-e889-4971-e687-25312c19c5da",
        "id": "7Cks5WnVGEUu"
      },
      "execution_count": 16,
      "outputs": [
        {
          "output_type": "stream",
          "name": "stdout",
          "text": [
            "\u001b[1m189/189\u001b[0m \u001b[32m━━━━━━━━━━━━━━━━━━━━\u001b[0m\u001b[37m\u001b[0m \u001b[1m1s\u001b[0m 3ms/step\n"
          ]
        }
      ]
    },
    {
      "cell_type": "code",
      "source": [
        "# возвращаем лейблы к строкам\n",
        "y_true = y_test\n",
        "\n",
        "# считаем матрицу ошибок\n",
        "cm = confusion_matrix(y_true, y_test_pred)\n",
        "\n",
        "# рисуем\n",
        "plt.figure(figsize=(8, 6))\n",
        "sns.heatmap(cm, annot=True, fmt='d', cmap='Blues', cbar=False,\n",
        "            xticklabels=label_encoder.classes_, yticklabels=label_encoder.classes_)\n",
        "\n",
        "plt.xlabel('Predicted')\n",
        "plt.ylabel('True')\n",
        "plt.title('Confusion Matrix')\n",
        "plt.xticks(ticks=np.arange(len(label_encoder.classes_)) + 0.5, labels=label_encoder.classes_)\n",
        "plt.yticks(ticks=np.arange(len(label_encoder.classes_)) + 0.5, labels=label_encoder.classes_)\n",
        "plt.show()"
      ],
      "metadata": {
        "colab": {
          "base_uri": "https://localhost:8080/",
          "height": 564
        },
        "outputId": "fc577034-43e2-4a01-faa6-a738b7e99b3a",
        "id": "HTR5PBUAGEUv"
      },
      "execution_count": 17,
      "outputs": [
        {
          "output_type": "display_data",
          "data": {
            "text/plain": [
              "<Figure size 800x600 with 1 Axes>"
            ],
            "image/png": "[encoded data removed]"
          },
          "metadata": {}
        }
      ]
    },
    {
      "cell_type": "code",
      "source": [
        "# посмотрим также репорт\n",
        "print(\"Classification Report:\")\n",
        "print(classification_report(y_true, y_test_pred, target_names=label_encoder.classes_))"
      ],
      "metadata": {
        "colab": {
          "base_uri": "https://localhost:8080/"
        },
        "outputId": "db72f64b-d24e-4c5c-d5f8-a9411bf9ca26",
        "id": "aW5k0Zv0GEUv"
      },
      "execution_count": 18,
      "outputs": [
        {
          "output_type": "stream",
          "name": "stdout",
          "text": [
            "Classification Report:\n",
            "              precision    recall  f1-score   support\n",
            "\n",
            "    negative       0.69      0.37      0.48      1295\n",
            "     neutral       0.62      0.84      0.71      2741\n",
            "    positive       0.70      0.57      0.63      2009\n",
            "\n",
            "    accuracy                           0.65      6045\n",
            "   macro avg       0.67      0.59      0.61      6045\n",
            "weighted avg       0.66      0.65      0.64      6045\n",
            "\n"
          ]
        }
      ]
    },
    {
      "cell_type": "markdown",
      "source": [
        "Точность предсказания негативных текстов упала, зато нейтральные стали лучше предсказываться. Попробую еще вернуть фильтры."
      ],
      "metadata": {
        "id": "pMQSZF5FMUJ3"
      }
    },
    {
      "cell_type": "code",
      "source": [
        "model_1 = Sequential([\n",
        "    Embedding(input_dim=vocab_size, output_dim=embedding_dim),\n",
        "    Conv1D(filters=128, kernel_size=3, activation='relu',\n",
        "           kernel_regularizer=l2(0.001)), # изменила на триграммы\n",
        "    # твиты сравнительно коротки по длине, поэтому длинных последовательностей там быть не должно\n",
        "    # также уменьшила кол-во фильтров\n",
        "    BatchNormalization(), # нормализация между слоями\n",
        "    GlobalMaxPooling1D(),\n",
        "    Dense(64, activation='relu',\n",
        "          kernel_regularizer=l2(0.005)),\n",
        "    Dropout(0.5),\n",
        "    Dense(3, activation='softmax')\n",
        "])\n",
        "\n",
        "model_1.compile(\n",
        "    loss='sparse_categorical_crossentropy',\n",
        "    optimizer='adamw', # улучшенный адам\n",
        "    metrics=['accuracy']\n",
        ")"
      ],
      "metadata": {
        "id": "LrL0aNhjM2gh"
      },
      "execution_count": 23,
      "outputs": []
    },
    {
      "cell_type": "code",
      "source": [
        "# останавливаем обучение, если на валидации прекращается улучшение\n",
        "callbacks = [\n",
        "    EarlyStopping(patience=3, restore_best_weights=True),\n",
        "    ReduceLROnPlateau(factor=0.2, patience=2)\n",
        "]\n",
        "\n",
        "history = model_1.fit(\n",
        "    X_train_padded,\n",
        "    y_train,\n",
        "    validation_data=(X_val_padded, y_val),\n",
        "    epochs=10,\n",
        "    batch_size=32,\n",
        "    callbacks=callbacks\n",
        ")"
      ],
      "metadata": {
        "colab": {
          "base_uri": "https://localhost:8080/"
        },
        "outputId": "70650616-ddea-4a3c-d696-eeb4de573f64",
        "id": "3_plW6jwM2gi"
      },
      "execution_count": 24,
      "outputs": [
        {
          "output_type": "stream",
          "name": "stdout",
          "text": [
            "Epoch 1/10\n",
            "\u001b[1m567/567\u001b[0m \u001b[32m━━━━━━━━━━━━━━━━━━━━\u001b[0m\u001b[37m\u001b[0m \u001b[1m18s\u001b[0m 27ms/step - accuracy: 0.4788 - loss: 1.4683 - val_accuracy: 0.6404 - val_loss: 1.1020 - learning_rate: 0.0010\n",
            "Epoch 2/10\n",
            "\u001b[1m567/567\u001b[0m \u001b[32m━━━━━━━━━━━━━━━━━━━━\u001b[0m\u001b[37m\u001b[0m \u001b[1m18s\u001b[0m 22ms/step - accuracy: 0.7200 - loss: 0.8733 - val_accuracy: 0.6639 - val_loss: 0.9146 - learning_rate: 0.0010\n",
            "Epoch 3/10\n",
            "\u001b[1m567/567\u001b[0m \u001b[32m━━━━━━━━━━━━━━━━━━━━\u001b[0m\u001b[37m\u001b[0m \u001b[1m13s\u001b[0m 23ms/step - accuracy: 0.8408 - loss: 0.5601 - val_accuracy: 0.6376 - val_loss: 0.9729 - learning_rate: 0.0010\n",
            "Epoch 4/10\n",
            "\u001b[1m567/567\u001b[0m \u001b[32m━━━━━━━━━━━━━━━━━━━━\u001b[0m\u001b[37m\u001b[0m \u001b[1m24s\u001b[0m 29ms/step - accuracy: 0.9165 - loss: 0.3689 - val_accuracy: 0.6471 - val_loss: 1.1305 - learning_rate: 0.0010\n",
            "Epoch 5/10\n",
            "\u001b[1m567/567\u001b[0m \u001b[32m━━━━━━━━━━━━━━━━━━━━\u001b[0m\u001b[37m\u001b[0m \u001b[1m18s\u001b[0m 32ms/step - accuracy: 0.9591 - loss: 0.2423 - val_accuracy: 0.6493 - val_loss: 1.3262 - learning_rate: 2.0000e-04\n"
          ]
        }
      ]
    },
    {
      "cell_type": "code",
      "source": [
        "loss, accuracy = model_1.evaluate(X_test_padded, y_test)\n",
        "print(f\"Test Accuracy: {accuracy:.4f}\")\n",
        "# м-да х3"
      ],
      "metadata": {
        "colab": {
          "base_uri": "https://localhost:8080/"
        },
        "outputId": "a74cddc5-f0fc-4650-fcbf-e169dd1d32f7",
        "id": "kvcPYdgpM2gi"
      },
      "execution_count": 25,
      "outputs": [
        {
          "output_type": "stream",
          "name": "stdout",
          "text": [
            "\u001b[1m189/189\u001b[0m \u001b[32m━━━━━━━━━━━━━━━━━━━━\u001b[0m\u001b[37m\u001b[0m \u001b[1m1s\u001b[0m 4ms/step - accuracy: 0.6513 - loss: 0.9274\n",
            "Test Accuracy: 0.6557\n"
          ]
        }
      ]
    },
    {
      "cell_type": "code",
      "source": [
        "# Отрисовка графика прогресса обучения\n",
        "plt.figure(figsize=(12, 4))\n",
        "\n",
        "# Отрисовка аккуратности (точности) модели\n",
        "plt.subplot(1, 2, 1)\n",
        "plt.plot(history.history['accuracy'], label='Training Accuracy')\n",
        "plt.plot(history.history['val_accuracy'], label='Validation Accuracy')\n",
        "plt.title('Training and Validation Accuracy')\n",
        "plt.xlabel('Epoch')\n",
        "plt.ylabel('Accuracy')\n",
        "plt.legend()\n",
        "\n",
        "# Отрисовка значений функции потерь\n",
        "plt.subplot(1, 2, 2)\n",
        "plt.plot(history.history['loss'], label='Training Loss')\n",
        "plt.plot(history.history['val_loss'], label='Validation Loss')\n",
        "plt.title('Training and Validation Loss')\n",
        "plt.xlabel('Epoch')\n",
        "plt.ylabel('Loss')\n",
        "plt.legend()\n",
        "\n",
        "plt.tight_layout()\n",
        "plt.show()\n",
        "# м-да х4\n",
        "# ничего вообще не поменялось"
      ],
      "metadata": {
        "colab": {
          "base_uri": "https://localhost:8080/",
          "height": 407
        },
        "outputId": "e6788d29-dc8b-458a-eee0-7abfc3987f8f",
        "id": "nVdK9dOvM2gj"
      },
      "execution_count": 26,
      "outputs": [
        {
          "output_type": "display_data",
          "data": {
            "text/plain": [
              "<Figure size 1200x400 with 2 Axes>"
            ],
            "image/png": "[encoded data removed]"
          },
          "metadata": {}
        }
      ]
    },
    {
      "cell_type": "code",
      "source": [
        "# Get predicted class indices\n",
        "y_test_pred_prob = model_1.predict(X_test_padded)\n",
        "y_test_pred = np.argmax(y_test_pred_prob, axis=1)"
      ],
      "metadata": {
        "colab": {
          "base_uri": "https://localhost:8080/"
        },
        "outputId": "93b01bb3-fbe4-4ef0-f417-0dc5b5b2826d",
        "id": "u_VokI5TQkPM"
      },
      "execution_count": 35,
      "outputs": [
        {
          "output_type": "stream",
          "name": "stdout",
          "text": [
            "\u001b[1m189/189\u001b[0m \u001b[32m━━━━━━━━━━━━━━━━━━━━\u001b[0m\u001b[37m\u001b[0m \u001b[1m1s\u001b[0m 4ms/step\n"
          ]
        }
      ]
    },
    {
      "cell_type": "code",
      "source": [
        "# посмотрим также репорт\n",
        "print(\"Classification Report:\")\n",
        "print(classification_report(y_true, y_test_pred, target_names=label_encoder.classes_))"
      ],
      "metadata": {
        "colab": {
          "base_uri": "https://localhost:8080/"
        },
        "outputId": "13b0a624-81a0-4388-c1ee-de81d64f516f",
        "id": "5QlnpVq_QkPO"
      },
      "execution_count": 36,
      "outputs": [
        {
          "output_type": "stream",
          "name": "stdout",
          "text": [
            "Classification Report:\n",
            "              precision    recall  f1-score   support\n",
            "\n",
            "    negative       0.53      0.60      0.56      1295\n",
            "     neutral       0.69      0.70      0.69      2741\n",
            "    positive       0.70      0.64      0.67      2009\n",
            "\n",
            "    accuracy                           0.66      6045\n",
            "   macro avg       0.64      0.64      0.64      6045\n",
            "weighted avg       0.66      0.66      0.66      6045\n",
            "\n"
          ]
        }
      ]
    },
    {
      "cell_type": "markdown",
      "source": [
        "Хоть и экьюраси не такая хорошая, качество предсказания негативных и позитивных текстов повысилось. F1 для нейтральныз уменьшилась на 0.02, но обычно важнее распознавать эмоционально окрашенные тексты.\n",
        "\n",
        "Попробую добавить еще один слой свертки."
      ],
      "metadata": {
        "id": "RnrQj3LUNmfO"
      }
    },
    {
      "cell_type": "code",
      "source": [
        "model_2 = Sequential([\n",
        "    Embedding(input_dim=vocab_size, output_dim=embedding_dim),\n",
        "    Conv1D(filters=128, kernel_size=3, activation='relu',\n",
        "           kernel_regularizer=l2(0.001)), # изменила на триграммы\n",
        "    # твиты сравнительно коротки по длине, поэтому длинных последовательностей там быть не должно\n",
        "    # также уменьшила кол-во фильтров\n",
        "    BatchNormalization(), # нормализация между слоями\n",
        "    Conv1D(filters=128, kernel_size=3, activation='relu',\n",
        "           kernel_regularizer=l2(0.001)),\n",
        "    BatchNormalization(), # нормализация между слоями\n",
        "    GlobalMaxPooling1D(),\n",
        "    Dense(64, activation='relu',\n",
        "          kernel_regularizer=l2(0.005)),\n",
        "    Dropout(0.5),\n",
        "    Dense(3, activation='softmax')\n",
        "])\n",
        "\n",
        "model_2.compile(\n",
        "    loss='sparse_categorical_crossentropy',\n",
        "    optimizer='adamw', # улучшенный адам\n",
        "    metrics=['accuracy']\n",
        ")"
      ],
      "metadata": {
        "id": "FCdpXAbdNqLC"
      },
      "execution_count": 27,
      "outputs": []
    },
    {
      "cell_type": "code",
      "source": [
        "# останавливаем обучение, если на валидации прекращается улучшение\n",
        "callbacks = [\n",
        "    EarlyStopping(patience=3, restore_best_weights=True),\n",
        "    ReduceLROnPlateau(factor=0.2, patience=2)\n",
        "]\n",
        "\n",
        "history = model_2.fit(\n",
        "    X_train_padded,\n",
        "    y_train,\n",
        "    validation_data=(X_val_padded, y_val),\n",
        "    epochs=10,\n",
        "    batch_size=32,\n",
        "    callbacks=callbacks\n",
        ")"
      ],
      "metadata": {
        "colab": {
          "base_uri": "https://localhost:8080/"
        },
        "id": "dEax3WRAN2u9",
        "outputId": "0aa9c824-5f27-442f-fbb6-17b67b290960"
      },
      "execution_count": 28,
      "outputs": [
        {
          "output_type": "stream",
          "name": "stdout",
          "text": [
            "Epoch 1/10\n",
            "\u001b[1m567/567\u001b[0m \u001b[32m━━━━━━━━━━━━━━━━━━━━\u001b[0m\u001b[37m\u001b[0m \u001b[1m30s\u001b[0m 44ms/step - accuracy: 0.4339 - loss: 1.9899 - val_accuracy: 0.5199 - val_loss: 1.4462 - learning_rate: 0.0010\n",
            "Epoch 2/10\n",
            "\u001b[1m567/567\u001b[0m \u001b[32m━━━━━━━━━━━━━━━━━━━━\u001b[0m\u001b[37m\u001b[0m \u001b[1m26s\u001b[0m 46ms/step - accuracy: 0.5635 - loss: 1.3214 - val_accuracy: 0.6177 - val_loss: 1.1551 - learning_rate: 0.0010\n",
            "Epoch 3/10\n",
            "\u001b[1m567/567\u001b[0m \u001b[32m━━━━━━━━━━━━━━━━━━━━\u001b[0m\u001b[37m\u001b[0m \u001b[1m35s\u001b[0m 35ms/step - accuracy: 0.6905 - loss: 1.0064 - val_accuracy: 0.6319 - val_loss: 1.0739 - learning_rate: 0.0010\n",
            "Epoch 4/10\n",
            "\u001b[1m567/567\u001b[0m \u001b[32m━━━━━━━━━━━━━━━━━━━━\u001b[0m\u001b[37m\u001b[0m \u001b[1m21s\u001b[0m 36ms/step - accuracy: 0.7897 - loss: 0.7580 - val_accuracy: 0.6448 - val_loss: 1.0552 - learning_rate: 0.0010\n",
            "Epoch 5/10\n",
            "\u001b[1m567/567\u001b[0m \u001b[32m━━━━━━━━━━━━━━━━━━━━\u001b[0m\u001b[37m\u001b[0m \u001b[1m21s\u001b[0m 37ms/step - accuracy: 0.8524 - loss: 0.6018 - val_accuracy: 0.6321 - val_loss: 1.1749 - learning_rate: 0.0010\n",
            "Epoch 6/10\n",
            "\u001b[1m567/567\u001b[0m \u001b[32m━━━━━━━━━━━━━━━━━━━━\u001b[0m\u001b[37m\u001b[0m \u001b[1m40s\u001b[0m 36ms/step - accuracy: 0.8889 - loss: 0.4912 - val_accuracy: 0.6324 - val_loss: 1.1776 - learning_rate: 0.0010\n",
            "Epoch 7/10\n",
            "\u001b[1m567/567\u001b[0m \u001b[32m━━━━━━━━━━━━━━━━━━━━\u001b[0m\u001b[37m\u001b[0m \u001b[1m20s\u001b[0m 34ms/step - accuracy: 0.9402 - loss: 0.3666 - val_accuracy: 0.6397 - val_loss: 1.5139 - learning_rate: 2.0000e-04\n"
          ]
        }
      ]
    },
    {
      "cell_type": "code",
      "source": [
        "loss, accuracy = model_2.evaluate(X_test_padded, y_test)\n",
        "print(f\"Test Accuracy: {accuracy:.4f}\")\n",
        "# м-да х5"
      ],
      "metadata": {
        "colab": {
          "base_uri": "https://localhost:8080/"
        },
        "id": "gmnuir5mPKGq",
        "outputId": "f7e51e4a-1e9e-4594-ff26-a5e6bcfe0466"
      },
      "execution_count": 29,
      "outputs": [
        {
          "output_type": "stream",
          "name": "stdout",
          "text": [
            "\u001b[1m189/189\u001b[0m \u001b[32m━━━━━━━━━━━━━━━━━━━━\u001b[0m\u001b[37m\u001b[0m \u001b[1m1s\u001b[0m 7ms/step - accuracy: 0.6432 - loss: 1.0672\n",
            "Test Accuracy: 0.6470\n"
          ]
        }
      ]
    },
    {
      "cell_type": "code",
      "source": [
        "# Отрисовка графика прогресса обучения\n",
        "plt.figure(figsize=(12, 4))\n",
        "\n",
        "# Отрисовка аккуратности (точности) модели\n",
        "plt.subplot(1, 2, 1)\n",
        "plt.plot(history.history['accuracy'], label='Training Accuracy')\n",
        "plt.plot(history.history['val_accuracy'], label='Validation Accuracy')\n",
        "plt.title('Training and Validation Accuracy')\n",
        "plt.xlabel('Epoch')\n",
        "plt.ylabel('Accuracy')\n",
        "plt.legend()\n",
        "\n",
        "# Отрисовка значений функции потерь\n",
        "plt.subplot(1, 2, 2)\n",
        "plt.plot(history.history['loss'], label='Training Loss')\n",
        "plt.plot(history.history['val_loss'], label='Validation Loss')\n",
        "plt.title('Training and Validation Loss')\n",
        "plt.xlabel('Epoch')\n",
        "plt.ylabel('Loss')\n",
        "plt.legend()\n",
        "\n",
        "plt.tight_layout()\n",
        "plt.show()"
      ],
      "metadata": {
        "colab": {
          "base_uri": "https://localhost:8080/",
          "height": 407
        },
        "id": "8WBaAuEvP_QM",
        "outputId": "8f2e1edf-f62b-4994-a563-104bbb29c565"
      },
      "execution_count": 30,
      "outputs": [
        {
          "output_type": "display_data",
          "data": {
            "text/plain": [
              "<Figure size 1200x400 with 2 Axes>"
            ],
            "image/png": "[encoded data removed]"
          },
          "metadata": {}
        }
      ]
    },
    {
      "cell_type": "code",
      "source": [
        "# Get predicted class indices\n",
        "y_test_pred_prob = model_2.predict(X_test_padded)\n",
        "y_test_pred = np.argmax(y_test_pred_prob, axis=1)"
      ],
      "metadata": {
        "colab": {
          "base_uri": "https://localhost:8080/"
        },
        "outputId": "52428cdd-4afc-4e9c-d921-6dacf72149d7",
        "id": "QSz_mZvYM2gj"
      },
      "execution_count": 32,
      "outputs": [
        {
          "output_type": "stream",
          "name": "stdout",
          "text": [
            "\u001b[1m189/189\u001b[0m \u001b[32m━━━━━━━━━━━━━━━━━━━━\u001b[0m\u001b[37m\u001b[0m \u001b[1m2s\u001b[0m 7ms/step\n"
          ]
        }
      ]
    },
    {
      "cell_type": "code",
      "source": [
        "# возвращаем лейблы к строкам\n",
        "y_true = y_test\n",
        "\n",
        "# считаем матрицу ошибок\n",
        "cm = confusion_matrix(y_true, y_test_pred)\n",
        "\n",
        "# рисуем\n",
        "plt.figure(figsize=(8, 6))\n",
        "sns.heatmap(cm, annot=True, fmt='d', cmap='Blues', cbar=False,\n",
        "            xticklabels=label_encoder.classes_, yticklabels=label_encoder.classes_)\n",
        "\n",
        "plt.xlabel('Predicted')\n",
        "plt.ylabel('True')\n",
        "plt.title('Confusion Matrix')\n",
        "plt.xticks(ticks=np.arange(len(label_encoder.classes_)) + 0.5, labels=label_encoder.classes_)\n",
        "plt.yticks(ticks=np.arange(len(label_encoder.classes_)) + 0.5, labels=label_encoder.classes_)\n",
        "plt.show()"
      ],
      "metadata": {
        "colab": {
          "base_uri": "https://localhost:8080/",
          "height": 564
        },
        "outputId": "4d83dec2-97f2-4f8d-beaa-52a2ebcac2d8",
        "id": "F_ZDbAVXM2gk"
      },
      "execution_count": 33,
      "outputs": [
        {
          "output_type": "display_data",
          "data": {
            "text/plain": [
              "<Figure size 800x600 with 1 Axes>"
            ],
            "image/png": "[encoded data removed]"
          },
          "metadata": {}
        }
      ]
    },
    {
      "cell_type": "code",
      "source": [
        "# посмотрим также репорт\n",
        "print(\"Classification Report:\")\n",
        "print(classification_report(y_true, y_test_pred, target_names=label_encoder.classes_))"
      ],
      "metadata": {
        "colab": {
          "base_uri": "https://localhost:8080/"
        },
        "outputId": "7e9934e9-eebf-4bfa-f8e6-45ea15880320",
        "id": "xZPfBkjlM2gk"
      },
      "execution_count": 34,
      "outputs": [
        {
          "output_type": "stream",
          "name": "stdout",
          "text": [
            "Classification Report:\n",
            "              precision    recall  f1-score   support\n",
            "\n",
            "    negative       0.57      0.54      0.55      1295\n",
            "     neutral       0.66      0.73      0.69      2741\n",
            "    positive       0.68      0.60      0.64      2009\n",
            "\n",
            "    accuracy                           0.65      6045\n",
            "   macro avg       0.64      0.62      0.63      6045\n",
            "weighted avg       0.65      0.65      0.64      6045\n",
            "\n"
          ]
        }
      ]
    },
    {
      "cell_type": "markdown",
      "source": [
        "Обучение прошло менее стабильно, а качество предсказания негативных и позитивных текстов повысилось. Оставляю модель без дополнительного сверточного слоя."
      ],
      "metadata": {
        "id": "2O4RpU3UQUKg"
      }
    },
    {
      "cell_type": "code",
      "source": [
        "# сохраняем модель\n",
        "model.save(\"tweets_cnn_model.keras\")"
      ],
      "metadata": {
        "id": "4opFUcWJ3ExI"
      },
      "execution_count": 38,
      "outputs": []
    },
    {
      "cell_type": "code",
      "source": [
        "# сохраняем лейбл энкодер для нее\n",
        "import joblib\n",
        "\n",
        "joblib.dump(label_encoder, \"label_encoder.joblib\")"
      ],
      "metadata": {
        "colab": {
          "base_uri": "https://localhost:8080/"
        },
        "id": "VwNcrULKS0HT",
        "outputId": "26724075-1a87-4415-d395-be8c5602ef66"
      },
      "execution_count": 39,
      "outputs": [
        {
          "output_type": "execute_result",
          "data": {
            "text/plain": [
              "['label_encoder.joblib']"
            ]
          },
          "metadata": {},
          "execution_count": 39
        }
      ]
    },
    {
      "cell_type": "markdown",
      "source": [
        "## Что дальше:\n",
        "\n",
        "Экьюраси все еще не такая прекрасная (0.65), поэтому можно дальше тюнить гиперпараметры. Также можно увеличить кол-во строк в датасете (напр., 50 или даже 100К).\n",
        "\n",
        "Кроме того, проблема может быть и в самих данных. Нужен лингвистический анализ того, насколько хорошо присвоены метки текстам (это было сделано автоматически с помощью нафайнтюненной модели). Еще, как я уже упоминала выше, на экьюраси может отрицательно влиять дисбаланс по классам, можно попробовать устранить его (снизить кол-во нейтральных текстов или вообще убрать их, поскольку при анализе тех же отзывов нейтраль не дает никакой информации)."
      ],
      "metadata": {
        "id": "pUgIFIb1Txju"
      }
    }
  ]
}